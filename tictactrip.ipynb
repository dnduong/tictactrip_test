{
  "nbformat": 4,
  "nbformat_minor": 0,
  "metadata": {
    "colab": {
      "name": "tictactrip.ipynb",
      "provenance": [],
      "collapsed_sections": []
    },
    "kernelspec": {
      "name": "python3",
      "display_name": "Python 3"
    }
  },
  "cells": [
    {
      "cell_type": "markdown",
      "metadata": {
        "id": "OAcqCCMtjNKW"
      },
      "source": [
        "DUONG Duc Nguyen"
      ]
    },
    {
      "cell_type": "code",
      "metadata": {
        "id": "IlcvG7O4WyLa"
      },
      "source": [
        "import pandas as pd\r\n",
        "cities = pd.read_csv(\"drive/MyDrive/Colab Notebooks/cities.csv\")\r\n",
        "stations = pd.read_csv(\"drive/MyDrive/Colab Notebooks/stations.csv\")\r\n",
        "providers = pd.read_csv(\"drive/MyDrive/Colab Notebooks/providers.csv\")\r\n",
        "ticket_data = pd.read_csv(\"drive/MyDrive/Colab Notebooks/ticket_data.csv\")\r\n"
      ],
      "execution_count": 320,
      "outputs": []
    },
    {
      "cell_type": "markdown",
      "metadata": {
        "id": "HUafVNLaICwd"
      },
      "source": [
        "Regardons les dataframes pour avoir une idée globale\r\n"
      ]
    },
    {
      "cell_type": "code",
      "metadata": {
        "colab": {
          "base_uri": "https://localhost:8080/",
          "height": 313
        },
        "id": "K9oqC1DuYnLT",
        "outputId": "ae00356b-61cd-4b98-f05a-c41dddef941a"
      },
      "source": [
        "ticket_data.head(5)"
      ],
      "execution_count": 321,
      "outputs": [
        {
          "output_type": "execute_result",
          "data": {
            "text/html": [
              "<div>\n",
              "<style scoped>\n",
              "    .dataframe tbody tr th:only-of-type {\n",
              "        vertical-align: middle;\n",
              "    }\n",
              "\n",
              "    .dataframe tbody tr th {\n",
              "        vertical-align: top;\n",
              "    }\n",
              "\n",
              "    .dataframe thead th {\n",
              "        text-align: right;\n",
              "    }\n",
              "</style>\n",
              "<table border=\"1\" class=\"dataframe\">\n",
              "  <thead>\n",
              "    <tr style=\"text-align: right;\">\n",
              "      <th></th>\n",
              "      <th>id</th>\n",
              "      <th>company</th>\n",
              "      <th>o_station</th>\n",
              "      <th>d_station</th>\n",
              "      <th>departure_ts</th>\n",
              "      <th>arrival_ts</th>\n",
              "      <th>price_in_cents</th>\n",
              "      <th>search_ts</th>\n",
              "      <th>middle_stations</th>\n",
              "      <th>other_companies</th>\n",
              "      <th>o_city</th>\n",
              "      <th>d_city</th>\n",
              "    </tr>\n",
              "  </thead>\n",
              "  <tbody>\n",
              "    <tr>\n",
              "      <th>0</th>\n",
              "      <td>6795025</td>\n",
              "      <td>8385</td>\n",
              "      <td>NaN</td>\n",
              "      <td>NaN</td>\n",
              "      <td>2017-10-13 14:00:00+00</td>\n",
              "      <td>2017-10-13 20:10:00+00</td>\n",
              "      <td>4550</td>\n",
              "      <td>2017-10-01 00:13:31.327+00</td>\n",
              "      <td>NaN</td>\n",
              "      <td>NaN</td>\n",
              "      <td>611</td>\n",
              "      <td>542</td>\n",
              "    </tr>\n",
              "    <tr>\n",
              "      <th>1</th>\n",
              "      <td>6795026</td>\n",
              "      <td>9</td>\n",
              "      <td>63.0</td>\n",
              "      <td>1044.0</td>\n",
              "      <td>2017-10-13 13:05:00+00</td>\n",
              "      <td>2017-10-14 06:55:00+00</td>\n",
              "      <td>1450</td>\n",
              "      <td>2017-10-01 00:13:35.773+00</td>\n",
              "      <td>{149,418}</td>\n",
              "      <td>{13}</td>\n",
              "      <td>611</td>\n",
              "      <td>542</td>\n",
              "    </tr>\n",
              "    <tr>\n",
              "      <th>2</th>\n",
              "      <td>6795027</td>\n",
              "      <td>8377</td>\n",
              "      <td>5905.0</td>\n",
              "      <td>6495.0</td>\n",
              "      <td>2017-10-13 13:27:00+00</td>\n",
              "      <td>2017-10-14 21:24:00+00</td>\n",
              "      <td>7400</td>\n",
              "      <td>2017-10-01 00:13:40.212+00</td>\n",
              "      <td>{798,798,6794,6246}</td>\n",
              "      <td>{8377,8376}</td>\n",
              "      <td>611</td>\n",
              "      <td>542</td>\n",
              "    </tr>\n",
              "    <tr>\n",
              "      <th>3</th>\n",
              "      <td>6795028</td>\n",
              "      <td>8377</td>\n",
              "      <td>5905.0</td>\n",
              "      <td>6495.0</td>\n",
              "      <td>2017-10-13 13:27:00+00</td>\n",
              "      <td>2017-10-14 11:02:00+00</td>\n",
              "      <td>13500</td>\n",
              "      <td>2017-10-01 00:13:40.213+00</td>\n",
              "      <td>{798,798,6794,6246}</td>\n",
              "      <td>{8377,8376}</td>\n",
              "      <td>611</td>\n",
              "      <td>542</td>\n",
              "    </tr>\n",
              "    <tr>\n",
              "      <th>4</th>\n",
              "      <td>6795029</td>\n",
              "      <td>8381</td>\n",
              "      <td>5905.0</td>\n",
              "      <td>6495.0</td>\n",
              "      <td>2017-10-13 21:46:00+00</td>\n",
              "      <td>2017-10-14 19:32:00+00</td>\n",
              "      <td>7710</td>\n",
              "      <td>2017-10-01 00:13:40.213+00</td>\n",
              "      <td>{5983,5983}</td>\n",
              "      <td>{8380}</td>\n",
              "      <td>611</td>\n",
              "      <td>542</td>\n",
              "    </tr>\n",
              "  </tbody>\n",
              "</table>\n",
              "</div>"
            ],
            "text/plain": [
              "        id  company  o_station  ...  other_companies o_city d_city\n",
              "0  6795025     8385        NaN  ...              NaN    611    542\n",
              "1  6795026        9       63.0  ...             {13}    611    542\n",
              "2  6795027     8377     5905.0  ...      {8377,8376}    611    542\n",
              "3  6795028     8377     5905.0  ...      {8377,8376}    611    542\n",
              "4  6795029     8381     5905.0  ...           {8380}    611    542\n",
              "\n",
              "[5 rows x 12 columns]"
            ]
          },
          "metadata": {
            "tags": []
          },
          "execution_count": 321
        }
      ]
    },
    {
      "cell_type": "code",
      "metadata": {
        "colab": {
          "base_uri": "https://localhost:8080/",
          "height": 206
        },
        "id": "LG_JxqzyZQuC",
        "outputId": "ea1051e0-50e5-429c-bee2-b958ede509f7"
      },
      "source": [
        "stations.head()"
      ],
      "execution_count": 322,
      "outputs": [
        {
          "output_type": "execute_result",
          "data": {
            "text/html": [
              "<div>\n",
              "<style scoped>\n",
              "    .dataframe tbody tr th:only-of-type {\n",
              "        vertical-align: middle;\n",
              "    }\n",
              "\n",
              "    .dataframe tbody tr th {\n",
              "        vertical-align: top;\n",
              "    }\n",
              "\n",
              "    .dataframe thead th {\n",
              "        text-align: right;\n",
              "    }\n",
              "</style>\n",
              "<table border=\"1\" class=\"dataframe\">\n",
              "  <thead>\n",
              "    <tr style=\"text-align: right;\">\n",
              "      <th></th>\n",
              "      <th>id</th>\n",
              "      <th>unique_name</th>\n",
              "      <th>latitude</th>\n",
              "      <th>longitude</th>\n",
              "    </tr>\n",
              "  </thead>\n",
              "  <tbody>\n",
              "    <tr>\n",
              "      <th>0</th>\n",
              "      <td>1</td>\n",
              "      <td>Aalen (Stuttgarter Straße)</td>\n",
              "      <td>48.835296</td>\n",
              "      <td>10.092956</td>\n",
              "    </tr>\n",
              "    <tr>\n",
              "      <th>1</th>\n",
              "      <td>2</td>\n",
              "      <td>Aéroport Bordeaux-Mérignac</td>\n",
              "      <td>44.830226</td>\n",
              "      <td>-0.700883</td>\n",
              "    </tr>\n",
              "    <tr>\n",
              "      <th>2</th>\n",
              "      <td>3</td>\n",
              "      <td>Aéroport CDG</td>\n",
              "      <td>49.009900</td>\n",
              "      <td>2.559310</td>\n",
              "    </tr>\n",
              "    <tr>\n",
              "      <th>3</th>\n",
              "      <td>4</td>\n",
              "      <td>Aéroport de Berlin-Schönefeld</td>\n",
              "      <td>52.389446</td>\n",
              "      <td>13.520345</td>\n",
              "    </tr>\n",
              "    <tr>\n",
              "      <th>4</th>\n",
              "      <td>5</td>\n",
              "      <td>Aéroport de Dresden</td>\n",
              "      <td>51.123604</td>\n",
              "      <td>13.764737</td>\n",
              "    </tr>\n",
              "  </tbody>\n",
              "</table>\n",
              "</div>"
            ],
            "text/plain": [
              "   id                     unique_name   latitude  longitude\n",
              "0   1      Aalen (Stuttgarter Straße)  48.835296  10.092956\n",
              "1   2      Aéroport Bordeaux-Mérignac  44.830226  -0.700883\n",
              "2   3                   Aéroport CDG   49.009900   2.559310\n",
              "3   4  Aéroport de Berlin-Schönefeld   52.389446  13.520345\n",
              "4   5             Aéroport de Dresden  51.123604  13.764737"
            ]
          },
          "metadata": {
            "tags": []
          },
          "execution_count": 322
        }
      ]
    },
    {
      "cell_type": "code",
      "metadata": {
        "colab": {
          "base_uri": "https://localhost:8080/",
          "height": 206
        },
        "id": "aYfv-aqQZciD",
        "outputId": "841a20a1-1d6b-459e-f9b3-9ed9f65e7284"
      },
      "source": [
        "cities.head()"
      ],
      "execution_count": 323,
      "outputs": [
        {
          "output_type": "execute_result",
          "data": {
            "text/html": [
              "<div>\n",
              "<style scoped>\n",
              "    .dataframe tbody tr th:only-of-type {\n",
              "        vertical-align: middle;\n",
              "    }\n",
              "\n",
              "    .dataframe tbody tr th {\n",
              "        vertical-align: top;\n",
              "    }\n",
              "\n",
              "    .dataframe thead th {\n",
              "        text-align: right;\n",
              "    }\n",
              "</style>\n",
              "<table border=\"1\" class=\"dataframe\">\n",
              "  <thead>\n",
              "    <tr style=\"text-align: right;\">\n",
              "      <th></th>\n",
              "      <th>id</th>\n",
              "      <th>local_name</th>\n",
              "      <th>unique_name</th>\n",
              "      <th>latitude</th>\n",
              "      <th>longitude</th>\n",
              "      <th>population</th>\n",
              "    </tr>\n",
              "  </thead>\n",
              "  <tbody>\n",
              "    <tr>\n",
              "      <th>0</th>\n",
              "      <td>5159</td>\n",
              "      <td>Padua, Veneto, Italia</td>\n",
              "      <td>padua</td>\n",
              "      <td>45.406435</td>\n",
              "      <td>11.876761</td>\n",
              "      <td>209678.0</td>\n",
              "    </tr>\n",
              "    <tr>\n",
              "      <th>1</th>\n",
              "      <td>76</td>\n",
              "      <td>Barcelona, Cataluña, España</td>\n",
              "      <td>barcelona</td>\n",
              "      <td>41.385064</td>\n",
              "      <td>2.173404</td>\n",
              "      <td>1611822.0</td>\n",
              "    </tr>\n",
              "    <tr>\n",
              "      <th>2</th>\n",
              "      <td>81</td>\n",
              "      <td>Basel, Basel-Stadt, Schweiz</td>\n",
              "      <td>basel</td>\n",
              "      <td>47.593437</td>\n",
              "      <td>7.619812</td>\n",
              "      <td>NaN</td>\n",
              "    </tr>\n",
              "    <tr>\n",
              "      <th>3</th>\n",
              "      <td>259</td>\n",
              "      <td>Erlangen, Bayern, Deutschland</td>\n",
              "      <td>erlangen</td>\n",
              "      <td>49.589674</td>\n",
              "      <td>11.011961</td>\n",
              "      <td>105412.0</td>\n",
              "    </tr>\n",
              "    <tr>\n",
              "      <th>4</th>\n",
              "      <td>11979</td>\n",
              "      <td>Balș, Olt, România</td>\n",
              "      <td>balș</td>\n",
              "      <td>44.353354</td>\n",
              "      <td>24.095672</td>\n",
              "      <td>NaN</td>\n",
              "    </tr>\n",
              "  </tbody>\n",
              "</table>\n",
              "</div>"
            ],
            "text/plain": [
              "      id                     local_name  ...  longitude  population\n",
              "0   5159          Padua, Veneto, Italia  ...  11.876761    209678.0\n",
              "1     76    Barcelona, Cataluña, España  ...   2.173404   1611822.0\n",
              "2     81    Basel, Basel-Stadt, Schweiz  ...   7.619812         NaN\n",
              "3    259  Erlangen, Bayern, Deutschland  ...  11.011961    105412.0\n",
              "4  11979             Balș, Olt, România  ...  24.095672         NaN\n",
              "\n",
              "[5 rows x 6 columns]"
            ]
          },
          "metadata": {
            "tags": []
          },
          "execution_count": 323
        }
      ]
    },
    {
      "cell_type": "code",
      "metadata": {
        "colab": {
          "base_uri": "https://localhost:8080/",
          "height": 206
        },
        "id": "uT4mTQAWZjci",
        "outputId": "bd7ad273-bc11-4580-cb05-310468dab51d"
      },
      "source": [
        "providers.head()"
      ],
      "execution_count": 324,
      "outputs": [
        {
          "output_type": "execute_result",
          "data": {
            "text/html": [
              "<div>\n",
              "<style scoped>\n",
              "    .dataframe tbody tr th:only-of-type {\n",
              "        vertical-align: middle;\n",
              "    }\n",
              "\n",
              "    .dataframe tbody tr th {\n",
              "        vertical-align: top;\n",
              "    }\n",
              "\n",
              "    .dataframe thead th {\n",
              "        text-align: right;\n",
              "    }\n",
              "</style>\n",
              "<table border=\"1\" class=\"dataframe\">\n",
              "  <thead>\n",
              "    <tr style=\"text-align: right;\">\n",
              "      <th></th>\n",
              "      <th>id</th>\n",
              "      <th>company_id</th>\n",
              "      <th>provider_id</th>\n",
              "      <th>name</th>\n",
              "      <th>fullname</th>\n",
              "      <th>has_wifi</th>\n",
              "      <th>has_plug</th>\n",
              "      <th>has_adjustable_seats</th>\n",
              "      <th>has_bicycle</th>\n",
              "      <th>transport_type</th>\n",
              "    </tr>\n",
              "  </thead>\n",
              "  <tbody>\n",
              "    <tr>\n",
              "      <th>0</th>\n",
              "      <td>9</td>\n",
              "      <td>1</td>\n",
              "      <td>NaN</td>\n",
              "      <td>ouibus</td>\n",
              "      <td>Ouibus</td>\n",
              "      <td>True</td>\n",
              "      <td>True</td>\n",
              "      <td>True</td>\n",
              "      <td>False</td>\n",
              "      <td>bus</td>\n",
              "    </tr>\n",
              "    <tr>\n",
              "      <th>1</th>\n",
              "      <td>10</td>\n",
              "      <td>2</td>\n",
              "      <td>NaN</td>\n",
              "      <td>deinbus</td>\n",
              "      <td>Deinbus.de</td>\n",
              "      <td>False</td>\n",
              "      <td>False</td>\n",
              "      <td>False</td>\n",
              "      <td>False</td>\n",
              "      <td>bus</td>\n",
              "    </tr>\n",
              "    <tr>\n",
              "      <th>2</th>\n",
              "      <td>11</td>\n",
              "      <td>3</td>\n",
              "      <td>NaN</td>\n",
              "      <td>infobus</td>\n",
              "      <td>Infobus</td>\n",
              "      <td>False</td>\n",
              "      <td>False</td>\n",
              "      <td>False</td>\n",
              "      <td>False</td>\n",
              "      <td>bus</td>\n",
              "    </tr>\n",
              "    <tr>\n",
              "      <th>3</th>\n",
              "      <td>12</td>\n",
              "      <td>4</td>\n",
              "      <td>NaN</td>\n",
              "      <td>studentAgency</td>\n",
              "      <td>Student Agency</td>\n",
              "      <td>False</td>\n",
              "      <td>False</td>\n",
              "      <td>False</td>\n",
              "      <td>False</td>\n",
              "      <td>bus</td>\n",
              "    </tr>\n",
              "    <tr>\n",
              "      <th>4</th>\n",
              "      <td>13</td>\n",
              "      <td>5</td>\n",
              "      <td>NaN</td>\n",
              "      <td>flixbus</td>\n",
              "      <td>Flixbus</td>\n",
              "      <td>True</td>\n",
              "      <td>False</td>\n",
              "      <td>False</td>\n",
              "      <td>False</td>\n",
              "      <td>bus</td>\n",
              "    </tr>\n",
              "  </tbody>\n",
              "</table>\n",
              "</div>"
            ],
            "text/plain": [
              "   id  company_id provider_id  ... has_adjustable_seats has_bicycle transport_type\n",
              "0   9           1         NaN  ...                 True       False            bus\n",
              "1  10           2         NaN  ...                False       False            bus\n",
              "2  11           3         NaN  ...                False       False            bus\n",
              "3  12           4         NaN  ...                False       False            bus\n",
              "4  13           5         NaN  ...                False       False            bus\n",
              "\n",
              "[5 rows x 10 columns]"
            ]
          },
          "metadata": {
            "tags": []
          },
          "execution_count": 324
        }
      ]
    },
    {
      "cell_type": "markdown",
      "metadata": {
        "id": "OgJQ_ZCJIPuq"
      },
      "source": [
        "Voyons quelles sont les modes de transports proposées par Tictatrip\r\n"
      ]
    },
    {
      "cell_type": "code",
      "metadata": {
        "colab": {
          "base_uri": "https://localhost:8080/"
        },
        "id": "XLu7VJV1ZqF4",
        "outputId": "494349e1-252b-4eae-e977-096bb0cc6f93"
      },
      "source": [
        "providers.transport_type.unique()"
      ],
      "execution_count": 325,
      "outputs": [
        {
          "output_type": "execute_result",
          "data": {
            "text/plain": [
              "array(['bus', 'car', 'train', 'carpooling'], dtype=object)"
            ]
          },
          "metadata": {
            "tags": []
          },
          "execution_count": 325
        }
      ]
    },
    {
      "cell_type": "markdown",
      "metadata": {
        "id": "o1kLoWEJIge5"
      },
      "source": [
        "Ca a l'air correspondre bien de ce que je trouve sur le site de Tictac trip :). Voyons maintenant si la dataframe contient des données manquantes"
      ]
    },
    {
      "cell_type": "code",
      "metadata": {
        "colab": {
          "base_uri": "https://localhost:8080/"
        },
        "id": "g4-RtDVha-BY",
        "outputId": "eb12bf81-1fd2-4f9a-f2c3-c2b1bd729596"
      },
      "source": [
        "providers.isna().sum()"
      ],
      "execution_count": 326,
      "outputs": [
        {
          "output_type": "execute_result",
          "data": {
            "text/plain": [
              "id                       0\n",
              "company_id               0\n",
              "provider_id             14\n",
              "name                     0\n",
              "fullname                 0\n",
              "has_wifi                 3\n",
              "has_plug                 3\n",
              "has_adjustable_seats     3\n",
              "has_bicycle              3\n",
              "transport_type           0\n",
              "dtype: int64"
            ]
          },
          "metadata": {
            "tags": []
          },
          "execution_count": 326
        }
      ]
    },
    {
      "cell_type": "markdown",
      "metadata": {
        "id": "2aYJzuldI-hW"
      },
      "source": [
        "Les provider_id sont difficles à corriger, essayons maintenant de corriger les valeurs manquantes des variables \"has_wifi\", \"has_plug\", \"has_adjustable_seats\" et \"has_bicycle\"."
      ]
    },
    {
      "cell_type": "code",
      "metadata": {
        "colab": {
          "base_uri": "https://localhost:8080/"
        },
        "id": "0rL3HUYbvKGX",
        "outputId": "eed02d88-8965-4082-99dc-d3a157c6cf6b"
      },
      "source": [
        "providers[providers[\"transport_type\"] == \"bus\"].has_plug.value_counts()"
      ],
      "execution_count": 327,
      "outputs": [
        {
          "output_type": "execute_result",
          "data": {
            "text/plain": [
              "False    209\n",
              "True       2\n",
              "Name: has_plug, dtype: int64"
            ]
          },
          "metadata": {
            "tags": []
          },
          "execution_count": 327
        }
      ]
    },
    {
      "cell_type": "code",
      "metadata": {
        "colab": {
          "base_uri": "https://localhost:8080/"
        },
        "id": "tLIRhw9cvaEr",
        "outputId": "5c0d3695-adf9-4e98-9e59-8e217084ef70"
      },
      "source": [
        "providers[providers[\"transport_type\"] == \"bus\"].has_wifi.value_counts()"
      ],
      "execution_count": 328,
      "outputs": [
        {
          "output_type": "execute_result",
          "data": {
            "text/plain": [
              "False    208\n",
              "True       3\n",
              "Name: has_wifi, dtype: int64"
            ]
          },
          "metadata": {
            "tags": []
          },
          "execution_count": 328
        }
      ]
    },
    {
      "cell_type": "code",
      "metadata": {
        "colab": {
          "base_uri": "https://localhost:8080/"
        },
        "id": "qee8kdiavemd",
        "outputId": "fda2c9d1-2cb3-43b4-8fec-3b173b6982bc"
      },
      "source": [
        "providers[providers[\"transport_type\"] == \"bus\"].has_adjustable_seats.value_counts()"
      ],
      "execution_count": 329,
      "outputs": [
        {
          "output_type": "execute_result",
          "data": {
            "text/plain": [
              "False    207\n",
              "True       4\n",
              "Name: has_adjustable_seats, dtype: int64"
            ]
          },
          "metadata": {
            "tags": []
          },
          "execution_count": 329
        }
      ]
    },
    {
      "cell_type": "code",
      "metadata": {
        "colab": {
          "base_uri": "https://localhost:8080/"
        },
        "id": "Nyv_veDYvhnc",
        "outputId": "13473c49-60c7-4e12-cc30-3284574787dc"
      },
      "source": [
        "providers[providers[\"transport_type\"] == \"bus\"].has_bicycle.value_counts()"
      ],
      "execution_count": 330,
      "outputs": [
        {
          "output_type": "execute_result",
          "data": {
            "text/plain": [
              "False    211\n",
              "Name: has_bicycle, dtype: int64"
            ]
          },
          "metadata": {
            "tags": []
          },
          "execution_count": 330
        }
      ]
    },
    {
      "cell_type": "markdown",
      "metadata": {
        "id": "8pFBKn7pJOAK"
      },
      "source": [
        "Nous constatons qu'il y a une forte chance que ces variables sont à false. Remplaçons ces valeurs par false. (car on en a besoin pour la suite)"
      ]
    },
    {
      "cell_type": "code",
      "metadata": {
        "colab": {
          "base_uri": "https://localhost:8080/",
          "height": 143
        },
        "id": "PVa8va6uu9zG",
        "outputId": "11aa2908-993e-4615-d767-c3a8e76234f8"
      },
      "source": [
        "providers[providers[\"has_plug\"].isna()]"
      ],
      "execution_count": 331,
      "outputs": [
        {
          "output_type": "execute_result",
          "data": {
            "text/html": [
              "<div>\n",
              "<style scoped>\n",
              "    .dataframe tbody tr th:only-of-type {\n",
              "        vertical-align: middle;\n",
              "    }\n",
              "\n",
              "    .dataframe tbody tr th {\n",
              "        vertical-align: top;\n",
              "    }\n",
              "\n",
              "    .dataframe thead th {\n",
              "        text-align: right;\n",
              "    }\n",
              "</style>\n",
              "<table border=\"1\" class=\"dataframe\">\n",
              "  <thead>\n",
              "    <tr style=\"text-align: right;\">\n",
              "      <th></th>\n",
              "      <th>id</th>\n",
              "      <th>company_id</th>\n",
              "      <th>provider_id</th>\n",
              "      <th>name</th>\n",
              "      <th>fullname</th>\n",
              "      <th>has_wifi</th>\n",
              "      <th>has_plug</th>\n",
              "      <th>has_adjustable_seats</th>\n",
              "      <th>has_bicycle</th>\n",
              "      <th>transport_type</th>\n",
              "    </tr>\n",
              "  </thead>\n",
              "  <tbody>\n",
              "    <tr>\n",
              "      <th>212</th>\n",
              "      <td>8374</td>\n",
              "      <td>20</td>\n",
              "      <td>NaN</td>\n",
              "      <td>transdev</td>\n",
              "      <td>Transdev</td>\n",
              "      <td>NaN</td>\n",
              "      <td>NaN</td>\n",
              "      <td>NaN</td>\n",
              "      <td>NaN</td>\n",
              "      <td>bus</td>\n",
              "    </tr>\n",
              "    <tr>\n",
              "      <th>224</th>\n",
              "      <td>8387</td>\n",
              "      <td>30</td>\n",
              "      <td>NaN</td>\n",
              "      <td>vatry</td>\n",
              "      <td>Vatry</td>\n",
              "      <td>NaN</td>\n",
              "      <td>NaN</td>\n",
              "      <td>NaN</td>\n",
              "      <td>NaN</td>\n",
              "      <td>bus</td>\n",
              "    </tr>\n",
              "    <tr>\n",
              "      <th>225</th>\n",
              "      <td>8388</td>\n",
              "      <td>40</td>\n",
              "      <td>NaN</td>\n",
              "      <td>beauval</td>\n",
              "      <td>Beauval</td>\n",
              "      <td>NaN</td>\n",
              "      <td>NaN</td>\n",
              "      <td>NaN</td>\n",
              "      <td>NaN</td>\n",
              "      <td>bus</td>\n",
              "    </tr>\n",
              "  </tbody>\n",
              "</table>\n",
              "</div>"
            ],
            "text/plain": [
              "       id  company_id  ... has_bicycle transport_type\n",
              "212  8374          20  ...         NaN            bus\n",
              "224  8387          30  ...         NaN            bus\n",
              "225  8388          40  ...         NaN            bus\n",
              "\n",
              "[3 rows x 10 columns]"
            ]
          },
          "metadata": {
            "tags": []
          },
          "execution_count": 331
        }
      ]
    },
    {
      "cell_type": "code",
      "metadata": {
        "id": "0RQx0JjEvvMg"
      },
      "source": [
        "providers[[\"has_plug\",\"has_adjustable_seats\",\"has_wifi\",\"has_bicycle\"]] = providers[[\"has_plug\",\"has_adjustable_seats\",\"has_wifi\",\"has_bicycle\"]].fillna(False)"
      ],
      "execution_count": 332,
      "outputs": []
    },
    {
      "cell_type": "code",
      "metadata": {
        "colab": {
          "base_uri": "https://localhost:8080/"
        },
        "id": "afTGFt05wLqz",
        "outputId": "fd3c2999-bddd-4ba6-8ba8-d35f5fda49e4"
      },
      "source": [
        "providers.isna().sum()"
      ],
      "execution_count": 333,
      "outputs": [
        {
          "output_type": "execute_result",
          "data": {
            "text/plain": [
              "id                       0\n",
              "company_id               0\n",
              "provider_id             14\n",
              "name                     0\n",
              "fullname                 0\n",
              "has_wifi                 0\n",
              "has_plug                 0\n",
              "has_adjustable_seats     0\n",
              "has_bicycle              0\n",
              "transport_type           0\n",
              "dtype: int64"
            ]
          },
          "metadata": {
            "tags": []
          },
          "execution_count": 333
        }
      ]
    },
    {
      "cell_type": "markdown",
      "metadata": {
        "id": "K2PlIl0GJiMx"
      },
      "source": [
        "Ca a l'air bien maintenant pour la dataframe providers. Regardons cities."
      ]
    },
    {
      "cell_type": "code",
      "metadata": {
        "colab": {
          "base_uri": "https://localhost:8080/"
        },
        "id": "_IMy5lcMaoIj",
        "outputId": "a73ef79a-7fbf-4dfe-c531-899c7f8eedd2"
      },
      "source": [
        "cities.isna().sum()"
      ],
      "execution_count": 334,
      "outputs": [
        {
          "output_type": "execute_result",
          "data": {
            "text/plain": [
              "id                0\n",
              "local_name        0\n",
              "unique_name       1\n",
              "latitude          0\n",
              "longitude         0\n",
              "population     7671\n",
              "dtype: int64"
            ]
          },
          "metadata": {
            "tags": []
          },
          "execution_count": 334
        }
      ]
    },
    {
      "cell_type": "markdown",
      "metadata": {
        "id": "ZSpiGMcMJru7"
      },
      "source": [
        "Corrigeons ensuite la seule valeur manquante de \"unique_name\", la population humm... on va essayer de remplacer si on en a besoin, sinon tant pis! :)"
      ]
    },
    {
      "cell_type": "code",
      "metadata": {
        "colab": {
          "base_uri": "https://localhost:8080/",
          "height": 80
        },
        "id": "U9-llgFlav02",
        "outputId": "5eb20d53-f8e2-45c9-c994-15d4a3962c0e"
      },
      "source": [
        "cities[cities[\"unique_name\"].isna()]"
      ],
      "execution_count": 335,
      "outputs": [
        {
          "output_type": "execute_result",
          "data": {
            "text/html": [
              "<div>\n",
              "<style scoped>\n",
              "    .dataframe tbody tr th:only-of-type {\n",
              "        vertical-align: middle;\n",
              "    }\n",
              "\n",
              "    .dataframe tbody tr th {\n",
              "        vertical-align: top;\n",
              "    }\n",
              "\n",
              "    .dataframe thead th {\n",
              "        text-align: right;\n",
              "    }\n",
              "</style>\n",
              "<table border=\"1\" class=\"dataframe\">\n",
              "  <thead>\n",
              "    <tr style=\"text-align: right;\">\n",
              "      <th></th>\n",
              "      <th>id</th>\n",
              "      <th>local_name</th>\n",
              "      <th>unique_name</th>\n",
              "      <th>latitude</th>\n",
              "      <th>longitude</th>\n",
              "      <th>population</th>\n",
              "    </tr>\n",
              "  </thead>\n",
              "  <tbody>\n",
              "    <tr>\n",
              "      <th>6866</th>\n",
              "      <td>10244</td>\n",
              "      <td>, Hamburg, Deutschland</td>\n",
              "      <td>NaN</td>\n",
              "      <td>39.613402</td>\n",
              "      <td>2.880431</td>\n",
              "      <td>NaN</td>\n",
              "    </tr>\n",
              "  </tbody>\n",
              "</table>\n",
              "</div>"
            ],
            "text/plain": [
              "         id              local_name  ... longitude  population\n",
              "6866  10244  , Hamburg, Deutschland  ...  2.880431         NaN\n",
              "\n",
              "[1 rows x 6 columns]"
            ]
          },
          "metadata": {
            "tags": []
          },
          "execution_count": 335
        }
      ]
    },
    {
      "cell_type": "code",
      "metadata": {
        "id": "1fTVJkgVa5sh"
      },
      "source": [
        "cities[cities[\"unique_name\"].isna()] = \"hamburg\""
      ],
      "execution_count": 336,
      "outputs": []
    },
    {
      "cell_type": "markdown",
      "metadata": {
        "id": "9zmXC3OLKLWn"
      },
      "source": [
        "stations pas de données manquantes, impécable! :>"
      ]
    },
    {
      "cell_type": "code",
      "metadata": {
        "colab": {
          "base_uri": "https://localhost:8080/"
        },
        "id": "ElHsJcSygZ5g",
        "outputId": "612103a2-f817-4026-b16a-9d24151f28b8"
      },
      "source": [
        "stations.isna().sum()"
      ],
      "execution_count": 337,
      "outputs": [
        {
          "output_type": "execute_result",
          "data": {
            "text/plain": [
              "id             0\n",
              "unique_name    0\n",
              "latitude       0\n",
              "longitude      0\n",
              "dtype: int64"
            ]
          },
          "metadata": {
            "tags": []
          },
          "execution_count": 337
        }
      ]
    },
    {
      "cell_type": "markdown",
      "metadata": {
        "id": "DkuPW3-7KSj2"
      },
      "source": [
        "Ticket_data : certaines lignes contiennent des données manquantes. En fait, après l'investigation, j'ai remarqué que ce sont les trips en covoit qui présentent des données manquantes dans les colonnes \"o_station\",\"d_station\",\"middle_stations\",\"other_companies\" ce qui est très logique."
      ]
    },
    {
      "cell_type": "code",
      "metadata": {
        "colab": {
          "base_uri": "https://localhost:8080/"
        },
        "id": "kkB4dNQJggOQ",
        "outputId": "b56ee18b-b6bc-4f37-8cdd-03ce8b5d7c2d"
      },
      "source": [
        "ticket_data.isna().sum()"
      ],
      "execution_count": 338,
      "outputs": [
        {
          "output_type": "execute_result",
          "data": {
            "text/plain": [
              "id                     0\n",
              "company                0\n",
              "o_station          41441\n",
              "d_station          41441\n",
              "departure_ts           0\n",
              "arrival_ts             0\n",
              "price_in_cents         0\n",
              "search_ts              0\n",
              "middle_stations    41441\n",
              "other_companies    41441\n",
              "o_city                 0\n",
              "d_city                 0\n",
              "dtype: int64"
            ]
          },
          "metadata": {
            "tags": []
          },
          "execution_count": 338
        }
      ]
    },
    {
      "cell_type": "code",
      "metadata": {
        "id": "BdQMpgOnise0",
        "colab": {
          "base_uri": "https://localhost:8080/",
          "height": 617
        },
        "outputId": "c4cbdf87-4fa5-43a0-b4a9-f1b7ed6c5a6d"
      },
      "source": [
        "ticket_data"
      ],
      "execution_count": 339,
      "outputs": [
        {
          "output_type": "execute_result",
          "data": {
            "text/html": [
              "<div>\n",
              "<style scoped>\n",
              "    .dataframe tbody tr th:only-of-type {\n",
              "        vertical-align: middle;\n",
              "    }\n",
              "\n",
              "    .dataframe tbody tr th {\n",
              "        vertical-align: top;\n",
              "    }\n",
              "\n",
              "    .dataframe thead th {\n",
              "        text-align: right;\n",
              "    }\n",
              "</style>\n",
              "<table border=\"1\" class=\"dataframe\">\n",
              "  <thead>\n",
              "    <tr style=\"text-align: right;\">\n",
              "      <th></th>\n",
              "      <th>id</th>\n",
              "      <th>company</th>\n",
              "      <th>o_station</th>\n",
              "      <th>d_station</th>\n",
              "      <th>departure_ts</th>\n",
              "      <th>arrival_ts</th>\n",
              "      <th>price_in_cents</th>\n",
              "      <th>search_ts</th>\n",
              "      <th>middle_stations</th>\n",
              "      <th>other_companies</th>\n",
              "      <th>o_city</th>\n",
              "      <th>d_city</th>\n",
              "    </tr>\n",
              "  </thead>\n",
              "  <tbody>\n",
              "    <tr>\n",
              "      <th>0</th>\n",
              "      <td>6795025</td>\n",
              "      <td>8385</td>\n",
              "      <td>NaN</td>\n",
              "      <td>NaN</td>\n",
              "      <td>2017-10-13 14:00:00+00</td>\n",
              "      <td>2017-10-13 20:10:00+00</td>\n",
              "      <td>4550</td>\n",
              "      <td>2017-10-01 00:13:31.327+00</td>\n",
              "      <td>NaN</td>\n",
              "      <td>NaN</td>\n",
              "      <td>611</td>\n",
              "      <td>542</td>\n",
              "    </tr>\n",
              "    <tr>\n",
              "      <th>1</th>\n",
              "      <td>6795026</td>\n",
              "      <td>9</td>\n",
              "      <td>63.0</td>\n",
              "      <td>1044.0</td>\n",
              "      <td>2017-10-13 13:05:00+00</td>\n",
              "      <td>2017-10-14 06:55:00+00</td>\n",
              "      <td>1450</td>\n",
              "      <td>2017-10-01 00:13:35.773+00</td>\n",
              "      <td>{149,418}</td>\n",
              "      <td>{13}</td>\n",
              "      <td>611</td>\n",
              "      <td>542</td>\n",
              "    </tr>\n",
              "    <tr>\n",
              "      <th>2</th>\n",
              "      <td>6795027</td>\n",
              "      <td>8377</td>\n",
              "      <td>5905.0</td>\n",
              "      <td>6495.0</td>\n",
              "      <td>2017-10-13 13:27:00+00</td>\n",
              "      <td>2017-10-14 21:24:00+00</td>\n",
              "      <td>7400</td>\n",
              "      <td>2017-10-01 00:13:40.212+00</td>\n",
              "      <td>{798,798,6794,6246}</td>\n",
              "      <td>{8377,8376}</td>\n",
              "      <td>611</td>\n",
              "      <td>542</td>\n",
              "    </tr>\n",
              "    <tr>\n",
              "      <th>3</th>\n",
              "      <td>6795028</td>\n",
              "      <td>8377</td>\n",
              "      <td>5905.0</td>\n",
              "      <td>6495.0</td>\n",
              "      <td>2017-10-13 13:27:00+00</td>\n",
              "      <td>2017-10-14 11:02:00+00</td>\n",
              "      <td>13500</td>\n",
              "      <td>2017-10-01 00:13:40.213+00</td>\n",
              "      <td>{798,798,6794,6246}</td>\n",
              "      <td>{8377,8376}</td>\n",
              "      <td>611</td>\n",
              "      <td>542</td>\n",
              "    </tr>\n",
              "    <tr>\n",
              "      <th>4</th>\n",
              "      <td>6795029</td>\n",
              "      <td>8381</td>\n",
              "      <td>5905.0</td>\n",
              "      <td>6495.0</td>\n",
              "      <td>2017-10-13 21:46:00+00</td>\n",
              "      <td>2017-10-14 19:32:00+00</td>\n",
              "      <td>7710</td>\n",
              "      <td>2017-10-01 00:13:40.213+00</td>\n",
              "      <td>{5983,5983}</td>\n",
              "      <td>{8380}</td>\n",
              "      <td>611</td>\n",
              "      <td>542</td>\n",
              "    </tr>\n",
              "    <tr>\n",
              "      <th>...</th>\n",
              "      <td>...</td>\n",
              "      <td>...</td>\n",
              "      <td>...</td>\n",
              "      <td>...</td>\n",
              "      <td>...</td>\n",
              "      <td>...</td>\n",
              "      <td>...</td>\n",
              "      <td>...</td>\n",
              "      <td>...</td>\n",
              "      <td>...</td>\n",
              "      <td>...</td>\n",
              "      <td>...</td>\n",
              "    </tr>\n",
              "    <tr>\n",
              "      <th>74163</th>\n",
              "      <td>6869182</td>\n",
              "      <td>13</td>\n",
              "      <td>279.0</td>\n",
              "      <td>10729.0</td>\n",
              "      <td>2017-10-27 02:30:00+00</td>\n",
              "      <td>2017-10-27 16:00:00+00</td>\n",
              "      <td>2590</td>\n",
              "      <td>2017-10-19 10:35:42.943+00</td>\n",
              "      <td>{408,408}</td>\n",
              "      <td>{8371}</td>\n",
              "      <td>628</td>\n",
              "      <td>562</td>\n",
              "    </tr>\n",
              "    <tr>\n",
              "      <th>74164</th>\n",
              "      <td>6869185</td>\n",
              "      <td>9</td>\n",
              "      <td>279.0</td>\n",
              "      <td>304.0</td>\n",
              "      <td>2017-10-27 07:00:00+00</td>\n",
              "      <td>2017-10-27 13:30:00+00</td>\n",
              "      <td>2700</td>\n",
              "      <td>2017-10-19 10:35:42.943+00</td>\n",
              "      <td>{1105,1105}</td>\n",
              "      <td>{9}</td>\n",
              "      <td>628</td>\n",
              "      <td>562</td>\n",
              "    </tr>\n",
              "    <tr>\n",
              "      <th>74165</th>\n",
              "      <td>6869187</td>\n",
              "      <td>8371</td>\n",
              "      <td>10642.0</td>\n",
              "      <td>304.0</td>\n",
              "      <td>2017-10-27 08:30:00+00</td>\n",
              "      <td>2017-10-27 15:15:00+00</td>\n",
              "      <td>3000</td>\n",
              "      <td>2017-10-19 10:35:42.943+00</td>\n",
              "      <td>{1105,1105}</td>\n",
              "      <td>{9}</td>\n",
              "      <td>628</td>\n",
              "      <td>562</td>\n",
              "    </tr>\n",
              "    <tr>\n",
              "      <th>74166</th>\n",
              "      <td>6869189</td>\n",
              "      <td>13</td>\n",
              "      <td>279.0</td>\n",
              "      <td>304.0</td>\n",
              "      <td>2017-10-27 13:25:00+00</td>\n",
              "      <td>2017-10-27 21:10:00+00</td>\n",
              "      <td>2880</td>\n",
              "      <td>2017-10-19 10:35:42.943+00</td>\n",
              "      <td>{863,863}</td>\n",
              "      <td>{13}</td>\n",
              "      <td>628</td>\n",
              "      <td>562</td>\n",
              "    </tr>\n",
              "    <tr>\n",
              "      <th>74167</th>\n",
              "      <td>6869191</td>\n",
              "      <td>8371</td>\n",
              "      <td>10642.0</td>\n",
              "      <td>10729.0</td>\n",
              "      <td>2017-10-27 14:45:00+00</td>\n",
              "      <td>2017-10-27 21:40:00+00</td>\n",
              "      <td>2000</td>\n",
              "      <td>2017-10-19 10:35:42.943+00</td>\n",
              "      <td>{863,863}</td>\n",
              "      <td>{8371}</td>\n",
              "      <td>628</td>\n",
              "      <td>562</td>\n",
              "    </tr>\n",
              "  </tbody>\n",
              "</table>\n",
              "<p>74168 rows × 12 columns</p>\n",
              "</div>"
            ],
            "text/plain": [
              "            id  company  o_station  ...  other_companies o_city d_city\n",
              "0      6795025     8385        NaN  ...              NaN    611    542\n",
              "1      6795026        9       63.0  ...             {13}    611    542\n",
              "2      6795027     8377     5905.0  ...      {8377,8376}    611    542\n",
              "3      6795028     8377     5905.0  ...      {8377,8376}    611    542\n",
              "4      6795029     8381     5905.0  ...           {8380}    611    542\n",
              "...        ...      ...        ...  ...              ...    ...    ...\n",
              "74163  6869182       13      279.0  ...           {8371}    628    562\n",
              "74164  6869185        9      279.0  ...              {9}    628    562\n",
              "74165  6869187     8371    10642.0  ...              {9}    628    562\n",
              "74166  6869189       13      279.0  ...             {13}    628    562\n",
              "74167  6869191     8371    10642.0  ...           {8371}    628    562\n",
              "\n",
              "[74168 rows x 12 columns]"
            ]
          },
          "metadata": {
            "tags": []
          },
          "execution_count": 339
        }
      ]
    },
    {
      "cell_type": "markdown",
      "metadata": {
        "id": "jAVzpyuNKwkD"
      },
      "source": [
        "Je vais éviter de modifier les dataframes (l'histoire de ne pas perdre les informations dans le cas qu'on en a besoin après). Donc je vais travailler essentiellement sur la dataframe trips que je vais créer dans la suite."
      ]
    },
    {
      "cell_type": "markdown",
      "metadata": {
        "id": "zcaPBa1CLN_N"
      },
      "source": [
        "Je vais importer les colonnes temps de départ et temps d'arriver dans la df trips et les transformer en datetime."
      ]
    },
    {
      "cell_type": "code",
      "metadata": {
        "id": "frXQmF_rWj-b"
      },
      "source": [
        "from datetime import datetime\r\n",
        "datetime_vars = ['departure_ts','arrival_ts']\r\n",
        "trips = pd.DataFrame()\r\n",
        "for var in datetime_vars:\r\n",
        "    trips[var] = ticket_data[var].apply(lambda x : x.split('+')[0])\r\n",
        "    trips[var] = trips[var].apply(lambda x : datetime.strptime(x,'%Y-%m-%d %H:%M:%S'))"
      ],
      "execution_count": 340,
      "outputs": []
    },
    {
      "cell_type": "markdown",
      "metadata": {
        "id": "HDy9ZuNYLNds"
      },
      "source": [
        "Je fais la différence des temps pour avoir la durée des trips. :) logique!"
      ]
    },
    {
      "cell_type": "code",
      "metadata": {
        "id": "lZKA61E8ajks"
      },
      "source": [
        "trips[\"duration\"] = trips.arrival_ts - trips.departure_ts"
      ],
      "execution_count": 341,
      "outputs": []
    },
    {
      "cell_type": "markdown",
      "metadata": {
        "id": "g2ZvasqKLjF-"
      },
      "source": [
        "Importer la colonne prix et convertir la durée en secondes."
      ]
    },
    {
      "cell_type": "code",
      "metadata": {
        "id": "PXnvt8_hZ7J2"
      },
      "source": [
        "trips[\"duration\"] = trips[\"duration\"].apply(lambda x : x.total_seconds())\r\n",
        "trips[\"price\"] = ticket_data[\"price_in_cents\"]\r\n",
        "trips = trips.drop(columns = [\"departure_ts\",\"arrival_ts\"])"
      ],
      "execution_count": 342,
      "outputs": []
    },
    {
      "cell_type": "markdown",
      "metadata": {
        "id": "dylqxhJwLn3u"
      },
      "source": [
        "Voilà à quoi la df ressemble maintenant."
      ]
    },
    {
      "cell_type": "code",
      "metadata": {
        "colab": {
          "base_uri": "https://localhost:8080/",
          "height": 206
        },
        "id": "0Ja-0TBoLDeE",
        "outputId": "994a55a3-5cfa-46ce-90b0-89fcfcd99b82"
      },
      "source": [
        "trips.head()"
      ],
      "execution_count": 343,
      "outputs": [
        {
          "output_type": "execute_result",
          "data": {
            "text/html": [
              "<div>\n",
              "<style scoped>\n",
              "    .dataframe tbody tr th:only-of-type {\n",
              "        vertical-align: middle;\n",
              "    }\n",
              "\n",
              "    .dataframe tbody tr th {\n",
              "        vertical-align: top;\n",
              "    }\n",
              "\n",
              "    .dataframe thead th {\n",
              "        text-align: right;\n",
              "    }\n",
              "</style>\n",
              "<table border=\"1\" class=\"dataframe\">\n",
              "  <thead>\n",
              "    <tr style=\"text-align: right;\">\n",
              "      <th></th>\n",
              "      <th>duration</th>\n",
              "      <th>price</th>\n",
              "    </tr>\n",
              "  </thead>\n",
              "  <tbody>\n",
              "    <tr>\n",
              "      <th>0</th>\n",
              "      <td>22200.0</td>\n",
              "      <td>4550</td>\n",
              "    </tr>\n",
              "    <tr>\n",
              "      <th>1</th>\n",
              "      <td>64200.0</td>\n",
              "      <td>1450</td>\n",
              "    </tr>\n",
              "    <tr>\n",
              "      <th>2</th>\n",
              "      <td>115020.0</td>\n",
              "      <td>7400</td>\n",
              "    </tr>\n",
              "    <tr>\n",
              "      <th>3</th>\n",
              "      <td>77700.0</td>\n",
              "      <td>13500</td>\n",
              "    </tr>\n",
              "    <tr>\n",
              "      <th>4</th>\n",
              "      <td>78360.0</td>\n",
              "      <td>7710</td>\n",
              "    </tr>\n",
              "  </tbody>\n",
              "</table>\n",
              "</div>"
            ],
            "text/plain": [
              "   duration  price\n",
              "0   22200.0   4550\n",
              "1   64200.0   1450\n",
              "2  115020.0   7400\n",
              "3   77700.0  13500\n",
              "4   78360.0   7710"
            ]
          },
          "metadata": {
            "tags": []
          },
          "execution_count": 343
        }
      ]
    },
    {
      "cell_type": "markdown",
      "metadata": {
        "id": "BFafFPsHLsT1"
      },
      "source": [
        "La réponse à la première question donnée :"
      ]
    },
    {
      "cell_type": "code",
      "metadata": {
        "colab": {
          "base_uri": "https://localhost:8080/"
        },
        "id": "7KyC01L0bon2",
        "outputId": "d11c6d86-0c0e-4a14-d6c1-6ef102114aec"
      },
      "source": [
        "index = {\"price\":\"cents\",\"duration\":\"s\"}\r\n",
        "for var in index:\r\n",
        "    print(\"%s moyen : %d %s\"%(var,trips[var].mean(),index[var]))\r\n",
        "    print(\"%s max : %d %s\"%(var,trips[var].max(),index[var]))\r\n",
        "    print(\"%s min : %d %s\"%(var,trips[var].min(),index[var]))"
      ],
      "execution_count": 344,
      "outputs": [
        {
          "output_type": "stream",
          "text": [
            "price moyen : 4382 cents\n",
            "price max : 38550 cents\n",
            "price min : 300 cents\n",
            "duration moyen : 25477 s\n",
            "duration max : 1774260 s\n",
            "duration min : 1200 s\n"
          ],
          "name": "stdout"
        }
      ]
    },
    {
      "cell_type": "code",
      "metadata": {
        "colab": {
          "base_uri": "https://localhost:8080/"
        },
        "id": "LxLwYBXZMc00",
        "outputId": "6e54ad8e-4064-4a9b-b5d3-1303ac8c7cf4"
      },
      "source": [
        "1774360/(3600*24)"
      ],
      "execution_count": 345,
      "outputs": [
        {
          "output_type": "execute_result",
          "data": {
            "text/plain": [
              "20.536574074074075"
            ]
          },
          "metadata": {
            "tags": []
          },
          "execution_count": 345
        }
      ]
    },
    {
      "cell_type": "markdown",
      "metadata": {
        "id": "OO8J614nLwPq"
      },
      "source": [
        "Les informations trouvées me semblent logique sauf je n'attendais pas à un trip de durée 1774260 secondes soit 20 jours."
      ]
    },
    {
      "cell_type": "markdown",
      "metadata": {
        "id": "54uYrn1mMoA9"
      },
      "source": [
        "Pour répondre à la deuxième question, je dois calculer la distance des trips. Pour cela je vais utiliser o_city et d_city vu qu'on a des données manquantes pour o_station et d_station.\r\n",
        "Pour cela j'utilise les les latitudes et les longitudes.\r\n",
        "\r\n",
        "Donc soit $r_T = 6371$ km le rayon de la Terre.\r\n",
        "\r\n",
        "On calcule alors la distance entre un point A et un point B par :\r\n",
        "\r\n",
        "$\\sqrt{(long_A-long_B)^2 +(lati_A-lati_B)^2}\\times a$ \r\n",
        "\r\n",
        "Avec $a = \\frac{2\\pi \\times r_T}{360}$ "
      ]
    },
    {
      "cell_type": "code",
      "metadata": {
        "id": "JJLbynn0gDXR"
      },
      "source": [
        "import math\r\n",
        "distance_df = pd.DataFrame(ticket_data[[\"o_city\",\"d_city\"]])\r\n",
        "distance_df = distance_df.join(cities[[\"id\",\"latitude\",\"longitude\"]].set_index('id'), on='o_city' )\r\n",
        "distance_df = distance_df.rename(columns = {'longitude':'o_longitude', 'latitude':'o_latitude'})\r\n",
        "distance_df = distance_df.join(cities[[\"id\",\"latitude\",\"longitude\"]].set_index('id'), on='d_city' )\r\n",
        "distance_df = distance_df.rename(columns = {'longitude':'d_longitude', 'latitude':'d_latitude'})\r\n",
        "\r\n",
        "r_T = 6371\r\n",
        "P_T = 2*math.pi*r_T\r\n",
        "a = P_T/360\r\n",
        "distance_df[\"distance\"] = (distance_df.d_longitude-distance_df.o_longitude)**2 + (distance_df.d_latitude-distance_df.o_latitude)**2\r\n",
        "distance_df.distance = distance_df.distance.apply(lambda x : math.sqrt(x)*a)"
      ],
      "execution_count": 346,
      "outputs": []
    },
    {
      "cell_type": "code",
      "metadata": {
        "id": "C_W87DqtjhE5"
      },
      "source": [
        "trips['distance'] = distance_df['distance']"
      ],
      "execution_count": 347,
      "outputs": []
    },
    {
      "cell_type": "markdown",
      "metadata": {
        "id": "q2zY-3lXg4oV"
      },
      "source": [
        "Voilà à quoi ressemble la df trips maintenant."
      ]
    },
    {
      "cell_type": "code",
      "metadata": {
        "colab": {
          "base_uri": "https://localhost:8080/",
          "height": 206
        },
        "id": "EbXTKVp_mlPm",
        "outputId": "9ef963d6-05ba-44a0-cc28-fd5b75588994"
      },
      "source": [
        "trips.head()"
      ],
      "execution_count": 348,
      "outputs": [
        {
          "output_type": "execute_result",
          "data": {
            "text/html": [
              "<div>\n",
              "<style scoped>\n",
              "    .dataframe tbody tr th:only-of-type {\n",
              "        vertical-align: middle;\n",
              "    }\n",
              "\n",
              "    .dataframe tbody tr th {\n",
              "        vertical-align: top;\n",
              "    }\n",
              "\n",
              "    .dataframe thead th {\n",
              "        text-align: right;\n",
              "    }\n",
              "</style>\n",
              "<table border=\"1\" class=\"dataframe\">\n",
              "  <thead>\n",
              "    <tr style=\"text-align: right;\">\n",
              "      <th></th>\n",
              "      <th>duration</th>\n",
              "      <th>price</th>\n",
              "      <th>distance</th>\n",
              "    </tr>\n",
              "  </thead>\n",
              "  <tbody>\n",
              "    <tr>\n",
              "      <th>0</th>\n",
              "      <td>22200.0</td>\n",
              "      <td>4550</td>\n",
              "      <td>528.151454</td>\n",
              "    </tr>\n",
              "    <tr>\n",
              "      <th>1</th>\n",
              "      <td>64200.0</td>\n",
              "      <td>1450</td>\n",
              "      <td>528.151454</td>\n",
              "    </tr>\n",
              "    <tr>\n",
              "      <th>2</th>\n",
              "      <td>115020.0</td>\n",
              "      <td>7400</td>\n",
              "      <td>528.151454</td>\n",
              "    </tr>\n",
              "    <tr>\n",
              "      <th>3</th>\n",
              "      <td>77700.0</td>\n",
              "      <td>13500</td>\n",
              "      <td>528.151454</td>\n",
              "    </tr>\n",
              "    <tr>\n",
              "      <th>4</th>\n",
              "      <td>78360.0</td>\n",
              "      <td>7710</td>\n",
              "      <td>528.151454</td>\n",
              "    </tr>\n",
              "  </tbody>\n",
              "</table>\n",
              "</div>"
            ],
            "text/plain": [
              "   duration  price    distance\n",
              "0   22200.0   4550  528.151454\n",
              "1   64200.0   1450  528.151454\n",
              "2  115020.0   7400  528.151454\n",
              "3   77700.0  13500  528.151454\n",
              "4   78360.0   7710  528.151454"
            ]
          },
          "metadata": {
            "tags": []
          },
          "execution_count": 348
        }
      ]
    },
    {
      "cell_type": "code",
      "metadata": {
        "colab": {
          "base_uri": "https://localhost:8080/",
          "height": 300
        },
        "id": "sTRGb4-BqNam",
        "outputId": "dfbc76d9-eb8d-43be-c885-97b797228f77"
      },
      "source": [
        "providers.describe()"
      ],
      "execution_count": 349,
      "outputs": [
        {
          "output_type": "execute_result",
          "data": {
            "text/html": [
              "<div>\n",
              "<style scoped>\n",
              "    .dataframe tbody tr th:only-of-type {\n",
              "        vertical-align: middle;\n",
              "    }\n",
              "\n",
              "    .dataframe tbody tr th {\n",
              "        vertical-align: top;\n",
              "    }\n",
              "\n",
              "    .dataframe thead th {\n",
              "        text-align: right;\n",
              "    }\n",
              "</style>\n",
              "<table border=\"1\" class=\"dataframe\">\n",
              "  <thead>\n",
              "    <tr style=\"text-align: right;\">\n",
              "      <th></th>\n",
              "      <th>id</th>\n",
              "      <th>company_id</th>\n",
              "    </tr>\n",
              "  </thead>\n",
              "  <tbody>\n",
              "    <tr>\n",
              "      <th>count</th>\n",
              "      <td>227.000000</td>\n",
              "      <td>227.000000</td>\n",
              "    </tr>\n",
              "    <tr>\n",
              "      <th>mean</th>\n",
              "      <td>790.656388</td>\n",
              "      <td>9.343612</td>\n",
              "    </tr>\n",
              "    <tr>\n",
              "      <th>std</th>\n",
              "      <td>2251.823950</td>\n",
              "      <td>3.036065</td>\n",
              "    </tr>\n",
              "    <tr>\n",
              "      <th>min</th>\n",
              "      <td>9.000000</td>\n",
              "      <td>1.000000</td>\n",
              "    </tr>\n",
              "    <tr>\n",
              "      <th>25%</th>\n",
              "      <td>66.500000</td>\n",
              "      <td>9.000000</td>\n",
              "    </tr>\n",
              "    <tr>\n",
              "      <th>50%</th>\n",
              "      <td>127.000000</td>\n",
              "      <td>9.000000</td>\n",
              "    </tr>\n",
              "    <tr>\n",
              "      <th>75%</th>\n",
              "      <td>183.500000</td>\n",
              "      <td>9.000000</td>\n",
              "    </tr>\n",
              "    <tr>\n",
              "      <th>max</th>\n",
              "      <td>8389.000000</td>\n",
              "      <td>40.000000</td>\n",
              "    </tr>\n",
              "  </tbody>\n",
              "</table>\n",
              "</div>"
            ],
            "text/plain": [
              "                id  company_id\n",
              "count   227.000000  227.000000\n",
              "mean    790.656388    9.343612\n",
              "std    2251.823950    3.036065\n",
              "min       9.000000    1.000000\n",
              "25%      66.500000    9.000000\n",
              "50%     127.000000    9.000000\n",
              "75%     183.500000    9.000000\n",
              "max    8389.000000   40.000000"
            ]
          },
          "metadata": {
            "tags": []
          },
          "execution_count": 349
        }
      ]
    },
    {
      "cell_type": "code",
      "metadata": {
        "colab": {
          "base_uri": "https://localhost:8080/",
          "height": 300
        },
        "id": "IFN1MasNqnnC",
        "outputId": "2d2ff41b-78cd-4966-b2f7-a7e123dc395c"
      },
      "source": [
        "ticket_data.describe()"
      ],
      "execution_count": 350,
      "outputs": [
        {
          "output_type": "execute_result",
          "data": {
            "text/html": [
              "<div>\n",
              "<style scoped>\n",
              "    .dataframe tbody tr th:only-of-type {\n",
              "        vertical-align: middle;\n",
              "    }\n",
              "\n",
              "    .dataframe tbody tr th {\n",
              "        vertical-align: top;\n",
              "    }\n",
              "\n",
              "    .dataframe thead th {\n",
              "        text-align: right;\n",
              "    }\n",
              "</style>\n",
              "<table border=\"1\" class=\"dataframe\">\n",
              "  <thead>\n",
              "    <tr style=\"text-align: right;\">\n",
              "      <th></th>\n",
              "      <th>id</th>\n",
              "      <th>company</th>\n",
              "      <th>o_station</th>\n",
              "      <th>d_station</th>\n",
              "      <th>price_in_cents</th>\n",
              "      <th>o_city</th>\n",
              "      <th>d_city</th>\n",
              "    </tr>\n",
              "  </thead>\n",
              "  <tbody>\n",
              "    <tr>\n",
              "      <th>count</th>\n",
              "      <td>7.416800e+04</td>\n",
              "      <td>74168.000000</td>\n",
              "      <td>32727.000000</td>\n",
              "      <td>32727.000000</td>\n",
              "      <td>74168.000000</td>\n",
              "      <td>74168.000000</td>\n",
              "      <td>74168.000000</td>\n",
              "    </tr>\n",
              "    <tr>\n",
              "      <th>mean</th>\n",
              "      <td>6.832108e+06</td>\n",
              "      <td>7109.565527</td>\n",
              "      <td>2907.132673</td>\n",
              "      <td>2347.858129</td>\n",
              "      <td>4382.711061</td>\n",
              "      <td>849.186105</td>\n",
              "      <td>883.776265</td>\n",
              "    </tr>\n",
              "    <tr>\n",
              "      <th>std</th>\n",
              "      <td>2.141060e+04</td>\n",
              "      <td>3005.380792</td>\n",
              "      <td>3347.629180</td>\n",
              "      <td>3090.798007</td>\n",
              "      <td>3739.325367</td>\n",
              "      <td>1485.791782</td>\n",
              "      <td>1654.698575</td>\n",
              "    </tr>\n",
              "    <tr>\n",
              "      <th>min</th>\n",
              "      <td>6.795025e+06</td>\n",
              "      <td>9.000000</td>\n",
              "      <td>3.000000</td>\n",
              "      <td>3.000000</td>\n",
              "      <td>300.000000</td>\n",
              "      <td>5.000000</td>\n",
              "      <td>1.000000</td>\n",
              "    </tr>\n",
              "    <tr>\n",
              "      <th>25%</th>\n",
              "      <td>6.813567e+06</td>\n",
              "      <td>8376.000000</td>\n",
              "      <td>400.000000</td>\n",
              "      <td>396.000000</td>\n",
              "      <td>1900.000000</td>\n",
              "      <td>485.000000</td>\n",
              "      <td>453.000000</td>\n",
              "    </tr>\n",
              "    <tr>\n",
              "      <th>50%</th>\n",
              "      <td>6.832108e+06</td>\n",
              "      <td>8385.000000</td>\n",
              "      <td>701.000000</td>\n",
              "      <td>575.000000</td>\n",
              "      <td>3350.000000</td>\n",
              "      <td>628.000000</td>\n",
              "      <td>562.000000</td>\n",
              "    </tr>\n",
              "    <tr>\n",
              "      <th>75%</th>\n",
              "      <td>6.850650e+06</td>\n",
              "      <td>8385.000000</td>\n",
              "      <td>6246.000000</td>\n",
              "      <td>4538.000000</td>\n",
              "      <td>5250.000000</td>\n",
              "      <td>628.000000</td>\n",
              "      <td>628.000000</td>\n",
              "    </tr>\n",
              "    <tr>\n",
              "      <th>max</th>\n",
              "      <td>6.869192e+06</td>\n",
              "      <td>8387.000000</td>\n",
              "      <td>11017.000000</td>\n",
              "      <td>11017.000000</td>\n",
              "      <td>38550.000000</td>\n",
              "      <td>12190.000000</td>\n",
              "      <td>12190.000000</td>\n",
              "    </tr>\n",
              "  </tbody>\n",
              "</table>\n",
              "</div>"
            ],
            "text/plain": [
              "                 id       company  ...        o_city        d_city\n",
              "count  7.416800e+04  74168.000000  ...  74168.000000  74168.000000\n",
              "mean   6.832108e+06   7109.565527  ...    849.186105    883.776265\n",
              "std    2.141060e+04   3005.380792  ...   1485.791782   1654.698575\n",
              "min    6.795025e+06      9.000000  ...      5.000000      1.000000\n",
              "25%    6.813567e+06   8376.000000  ...    485.000000    453.000000\n",
              "50%    6.832108e+06   8385.000000  ...    628.000000    562.000000\n",
              "75%    6.850650e+06   8385.000000  ...    628.000000    628.000000\n",
              "max    6.869192e+06   8387.000000  ...  12190.000000  12190.000000\n",
              "\n",
              "[8 rows x 7 columns]"
            ]
          },
          "metadata": {
            "tags": []
          },
          "execution_count": 350
        }
      ]
    },
    {
      "cell_type": "code",
      "metadata": {
        "id": "el23R2KRowsI"
      },
      "source": [
        "type_df = pd.DataFrame(ticket_data.company)\r\n",
        "type_df = type_df.join(providers[[\"id\",\"transport_type\"]].set_index('id'), on='company' )\r\n",
        "trips[\"transport_type\"] = type_df[\"transport_type\"]"
      ],
      "execution_count": 351,
      "outputs": []
    },
    {
      "cell_type": "code",
      "metadata": {
        "colab": {
          "base_uri": "https://localhost:8080/"
        },
        "id": "lybqVQQQtjCZ",
        "outputId": "8e1ae36b-a381-40c5-d3f7-da6f51a897c0"
      },
      "source": [
        "trips.isna().sum()"
      ],
      "execution_count": 352,
      "outputs": [
        {
          "output_type": "execute_result",
          "data": {
            "text/plain": [
              "duration          0\n",
              "price             0\n",
              "distance          0\n",
              "transport_type    0\n",
              "dtype: int64"
            ]
          },
          "metadata": {
            "tags": []
          },
          "execution_count": 352
        }
      ]
    },
    {
      "cell_type": "code",
      "metadata": {
        "id": "4A3Tz0b6rF2u"
      },
      "source": [
        "def distanceType(d):\r\n",
        "    if d <= 200 : return 1\r\n",
        "    elif d <= 800 : return 2\r\n",
        "    elif d <= 2000 : return 3\r\n",
        "    else : return 4\r\n",
        "trips[\"distanceType\"] = trips[\"distance\"].apply(lambda x : distanceType(x))"
      ],
      "execution_count": 353,
      "outputs": []
    },
    {
      "cell_type": "markdown",
      "metadata": {
        "id": "ukhz_7m2hF1A"
      },
      "source": [
        "La réponse à la question 2:"
      ]
    },
    {
      "cell_type": "code",
      "metadata": {
        "colab": {
          "base_uri": "https://localhost:8080/",
          "height": 425
        },
        "id": "tHX00xzUruiv",
        "outputId": "d2657688-7f8a-4cfa-de98-2e8ded1e2e3e"
      },
      "source": [
        "pd.DataFrame(trips.groupby([\"distanceType\",\"transport_type\"]).mean()[\"price\"])"
      ],
      "execution_count": 354,
      "outputs": [
        {
          "output_type": "execute_result",
          "data": {
            "text/html": [
              "<div>\n",
              "<style scoped>\n",
              "    .dataframe tbody tr th:only-of-type {\n",
              "        vertical-align: middle;\n",
              "    }\n",
              "\n",
              "    .dataframe tbody tr th {\n",
              "        vertical-align: top;\n",
              "    }\n",
              "\n",
              "    .dataframe thead th {\n",
              "        text-align: right;\n",
              "    }\n",
              "</style>\n",
              "<table border=\"1\" class=\"dataframe\">\n",
              "  <thead>\n",
              "    <tr style=\"text-align: right;\">\n",
              "      <th></th>\n",
              "      <th></th>\n",
              "      <th>price</th>\n",
              "    </tr>\n",
              "    <tr>\n",
              "      <th>distanceType</th>\n",
              "      <th>transport_type</th>\n",
              "      <th></th>\n",
              "    </tr>\n",
              "  </thead>\n",
              "  <tbody>\n",
              "    <tr>\n",
              "      <th rowspan=\"3\" valign=\"top\">1</th>\n",
              "      <th>bus</th>\n",
              "      <td>2101.735504</td>\n",
              "    </tr>\n",
              "    <tr>\n",
              "      <th>carpooling</th>\n",
              "      <td>1079.055225</td>\n",
              "    </tr>\n",
              "    <tr>\n",
              "      <th>train</th>\n",
              "      <td>3082.196397</td>\n",
              "    </tr>\n",
              "    <tr>\n",
              "      <th rowspan=\"3\" valign=\"top\">2</th>\n",
              "      <th>bus</th>\n",
              "      <td>3380.018268</td>\n",
              "    </tr>\n",
              "    <tr>\n",
              "      <th>carpooling</th>\n",
              "      <td>3098.176370</td>\n",
              "    </tr>\n",
              "    <tr>\n",
              "      <th>train</th>\n",
              "      <td>8706.264301</td>\n",
              "    </tr>\n",
              "    <tr>\n",
              "      <th rowspan=\"3\" valign=\"top\">3</th>\n",
              "      <th>bus</th>\n",
              "      <td>5749.939363</td>\n",
              "    </tr>\n",
              "    <tr>\n",
              "      <th>carpooling</th>\n",
              "      <td>6172.822314</td>\n",
              "    </tr>\n",
              "    <tr>\n",
              "      <th>train</th>\n",
              "      <td>15543.151796</td>\n",
              "    </tr>\n",
              "    <tr>\n",
              "      <th rowspan=\"2\" valign=\"top\">4</th>\n",
              "      <th>bus</th>\n",
              "      <td>9638.942308</td>\n",
              "    </tr>\n",
              "    <tr>\n",
              "      <th>carpooling</th>\n",
              "      <td>12400.000000</td>\n",
              "    </tr>\n",
              "  </tbody>\n",
              "</table>\n",
              "</div>"
            ],
            "text/plain": [
              "                                    price\n",
              "distanceType transport_type              \n",
              "1            bus              2101.735504\n",
              "             carpooling       1079.055225\n",
              "             train            3082.196397\n",
              "2            bus              3380.018268\n",
              "             carpooling       3098.176370\n",
              "             train            8706.264301\n",
              "3            bus              5749.939363\n",
              "             carpooling       6172.822314\n",
              "             train           15543.151796\n",
              "4            bus              9638.942308\n",
              "             carpooling      12400.000000"
            ]
          },
          "metadata": {
            "tags": []
          },
          "execution_count": 354
        }
      ]
    },
    {
      "cell_type": "markdown",
      "metadata": {
        "id": "b2nLji9KhOQE"
      },
      "source": [
        "Maintenant essayons de construire un modèle pour estimer le prix des voyages. Pour cela, je vais faire les features engineering suivants:"
      ]
    },
    {
      "cell_type": "code",
      "metadata": {
        "colab": {
          "base_uri": "https://localhost:8080/",
          "height": 313
        },
        "id": "6ZAyz_LUtvJp",
        "outputId": "beebfcd0-85db-45d9-d35f-57550ead80fa"
      },
      "source": [
        "ticket_data.head()"
      ],
      "execution_count": 355,
      "outputs": [
        {
          "output_type": "execute_result",
          "data": {
            "text/html": [
              "<div>\n",
              "<style scoped>\n",
              "    .dataframe tbody tr th:only-of-type {\n",
              "        vertical-align: middle;\n",
              "    }\n",
              "\n",
              "    .dataframe tbody tr th {\n",
              "        vertical-align: top;\n",
              "    }\n",
              "\n",
              "    .dataframe thead th {\n",
              "        text-align: right;\n",
              "    }\n",
              "</style>\n",
              "<table border=\"1\" class=\"dataframe\">\n",
              "  <thead>\n",
              "    <tr style=\"text-align: right;\">\n",
              "      <th></th>\n",
              "      <th>id</th>\n",
              "      <th>company</th>\n",
              "      <th>o_station</th>\n",
              "      <th>d_station</th>\n",
              "      <th>departure_ts</th>\n",
              "      <th>arrival_ts</th>\n",
              "      <th>price_in_cents</th>\n",
              "      <th>search_ts</th>\n",
              "      <th>middle_stations</th>\n",
              "      <th>other_companies</th>\n",
              "      <th>o_city</th>\n",
              "      <th>d_city</th>\n",
              "    </tr>\n",
              "  </thead>\n",
              "  <tbody>\n",
              "    <tr>\n",
              "      <th>0</th>\n",
              "      <td>6795025</td>\n",
              "      <td>8385</td>\n",
              "      <td>NaN</td>\n",
              "      <td>NaN</td>\n",
              "      <td>2017-10-13 14:00:00+00</td>\n",
              "      <td>2017-10-13 20:10:00+00</td>\n",
              "      <td>4550</td>\n",
              "      <td>2017-10-01 00:13:31.327+00</td>\n",
              "      <td>NaN</td>\n",
              "      <td>NaN</td>\n",
              "      <td>611</td>\n",
              "      <td>542</td>\n",
              "    </tr>\n",
              "    <tr>\n",
              "      <th>1</th>\n",
              "      <td>6795026</td>\n",
              "      <td>9</td>\n",
              "      <td>63.0</td>\n",
              "      <td>1044.0</td>\n",
              "      <td>2017-10-13 13:05:00+00</td>\n",
              "      <td>2017-10-14 06:55:00+00</td>\n",
              "      <td>1450</td>\n",
              "      <td>2017-10-01 00:13:35.773+00</td>\n",
              "      <td>{149,418}</td>\n",
              "      <td>{13}</td>\n",
              "      <td>611</td>\n",
              "      <td>542</td>\n",
              "    </tr>\n",
              "    <tr>\n",
              "      <th>2</th>\n",
              "      <td>6795027</td>\n",
              "      <td>8377</td>\n",
              "      <td>5905.0</td>\n",
              "      <td>6495.0</td>\n",
              "      <td>2017-10-13 13:27:00+00</td>\n",
              "      <td>2017-10-14 21:24:00+00</td>\n",
              "      <td>7400</td>\n",
              "      <td>2017-10-01 00:13:40.212+00</td>\n",
              "      <td>{798,798,6794,6246}</td>\n",
              "      <td>{8377,8376}</td>\n",
              "      <td>611</td>\n",
              "      <td>542</td>\n",
              "    </tr>\n",
              "    <tr>\n",
              "      <th>3</th>\n",
              "      <td>6795028</td>\n",
              "      <td>8377</td>\n",
              "      <td>5905.0</td>\n",
              "      <td>6495.0</td>\n",
              "      <td>2017-10-13 13:27:00+00</td>\n",
              "      <td>2017-10-14 11:02:00+00</td>\n",
              "      <td>13500</td>\n",
              "      <td>2017-10-01 00:13:40.213+00</td>\n",
              "      <td>{798,798,6794,6246}</td>\n",
              "      <td>{8377,8376}</td>\n",
              "      <td>611</td>\n",
              "      <td>542</td>\n",
              "    </tr>\n",
              "    <tr>\n",
              "      <th>4</th>\n",
              "      <td>6795029</td>\n",
              "      <td>8381</td>\n",
              "      <td>5905.0</td>\n",
              "      <td>6495.0</td>\n",
              "      <td>2017-10-13 21:46:00+00</td>\n",
              "      <td>2017-10-14 19:32:00+00</td>\n",
              "      <td>7710</td>\n",
              "      <td>2017-10-01 00:13:40.213+00</td>\n",
              "      <td>{5983,5983}</td>\n",
              "      <td>{8380}</td>\n",
              "      <td>611</td>\n",
              "      <td>542</td>\n",
              "    </tr>\n",
              "  </tbody>\n",
              "</table>\n",
              "</div>"
            ],
            "text/plain": [
              "        id  company  o_station  ...  other_companies o_city d_city\n",
              "0  6795025     8385        NaN  ...              NaN    611    542\n",
              "1  6795026        9       63.0  ...             {13}    611    542\n",
              "2  6795027     8377     5905.0  ...      {8377,8376}    611    542\n",
              "3  6795028     8377     5905.0  ...      {8377,8376}    611    542\n",
              "4  6795029     8381     5905.0  ...           {8380}    611    542\n",
              "\n",
              "[5 rows x 12 columns]"
            ]
          },
          "metadata": {
            "tags": []
          },
          "execution_count": 355
        }
      ]
    },
    {
      "cell_type": "markdown",
      "metadata": {
        "id": "E0hJtZ_xhjgX"
      },
      "source": [
        "On va utiliser : la durée, le type de transport, le nombre de middle_stations, le nombre de companies et le nom des villes de départ et ville d'arriver comme variables explicatives."
      ]
    },
    {
      "cell_type": "code",
      "metadata": {
        "colab": {
          "base_uri": "https://localhost:8080/",
          "height": 206
        },
        "id": "y75C2aCoxBOf",
        "outputId": "1a10cfa9-72c7-4e47-fc51-baff84f5bbf2"
      },
      "source": [
        "trips[[\"company\",\"middle_stations\",\"other_companies\",\"o_city\",\"d_city\"]] = ticket_data[[\"company\",\"middle_stations\",\"other_companies\",\"o_city\",\"d_city\"]]\r\n",
        "trips.head()"
      ],
      "execution_count": 356,
      "outputs": [
        {
          "output_type": "execute_result",
          "data": {
            "text/html": [
              "<div>\n",
              "<style scoped>\n",
              "    .dataframe tbody tr th:only-of-type {\n",
              "        vertical-align: middle;\n",
              "    }\n",
              "\n",
              "    .dataframe tbody tr th {\n",
              "        vertical-align: top;\n",
              "    }\n",
              "\n",
              "    .dataframe thead th {\n",
              "        text-align: right;\n",
              "    }\n",
              "</style>\n",
              "<table border=\"1\" class=\"dataframe\">\n",
              "  <thead>\n",
              "    <tr style=\"text-align: right;\">\n",
              "      <th></th>\n",
              "      <th>duration</th>\n",
              "      <th>price</th>\n",
              "      <th>distance</th>\n",
              "      <th>transport_type</th>\n",
              "      <th>distanceType</th>\n",
              "      <th>company</th>\n",
              "      <th>middle_stations</th>\n",
              "      <th>other_companies</th>\n",
              "      <th>o_city</th>\n",
              "      <th>d_city</th>\n",
              "    </tr>\n",
              "  </thead>\n",
              "  <tbody>\n",
              "    <tr>\n",
              "      <th>0</th>\n",
              "      <td>22200.0</td>\n",
              "      <td>4550</td>\n",
              "      <td>528.151454</td>\n",
              "      <td>carpooling</td>\n",
              "      <td>2</td>\n",
              "      <td>8385</td>\n",
              "      <td>NaN</td>\n",
              "      <td>NaN</td>\n",
              "      <td>611</td>\n",
              "      <td>542</td>\n",
              "    </tr>\n",
              "    <tr>\n",
              "      <th>1</th>\n",
              "      <td>64200.0</td>\n",
              "      <td>1450</td>\n",
              "      <td>528.151454</td>\n",
              "      <td>bus</td>\n",
              "      <td>2</td>\n",
              "      <td>9</td>\n",
              "      <td>{149,418}</td>\n",
              "      <td>{13}</td>\n",
              "      <td>611</td>\n",
              "      <td>542</td>\n",
              "    </tr>\n",
              "    <tr>\n",
              "      <th>2</th>\n",
              "      <td>115020.0</td>\n",
              "      <td>7400</td>\n",
              "      <td>528.151454</td>\n",
              "      <td>train</td>\n",
              "      <td>2</td>\n",
              "      <td>8377</td>\n",
              "      <td>{798,798,6794,6246}</td>\n",
              "      <td>{8377,8376}</td>\n",
              "      <td>611</td>\n",
              "      <td>542</td>\n",
              "    </tr>\n",
              "    <tr>\n",
              "      <th>3</th>\n",
              "      <td>77700.0</td>\n",
              "      <td>13500</td>\n",
              "      <td>528.151454</td>\n",
              "      <td>train</td>\n",
              "      <td>2</td>\n",
              "      <td>8377</td>\n",
              "      <td>{798,798,6794,6246}</td>\n",
              "      <td>{8377,8376}</td>\n",
              "      <td>611</td>\n",
              "      <td>542</td>\n",
              "    </tr>\n",
              "    <tr>\n",
              "      <th>4</th>\n",
              "      <td>78360.0</td>\n",
              "      <td>7710</td>\n",
              "      <td>528.151454</td>\n",
              "      <td>train</td>\n",
              "      <td>2</td>\n",
              "      <td>8381</td>\n",
              "      <td>{5983,5983}</td>\n",
              "      <td>{8380}</td>\n",
              "      <td>611</td>\n",
              "      <td>542</td>\n",
              "    </tr>\n",
              "  </tbody>\n",
              "</table>\n",
              "</div>"
            ],
            "text/plain": [
              "   duration  price    distance  ... other_companies  o_city  d_city\n",
              "0   22200.0   4550  528.151454  ...             NaN     611     542\n",
              "1   64200.0   1450  528.151454  ...            {13}     611     542\n",
              "2  115020.0   7400  528.151454  ...     {8377,8376}     611     542\n",
              "3   77700.0  13500  528.151454  ...     {8377,8376}     611     542\n",
              "4   78360.0   7710  528.151454  ...          {8380}     611     542\n",
              "\n",
              "[5 rows x 10 columns]"
            ]
          },
          "metadata": {
            "tags": []
          },
          "execution_count": 356
        }
      ]
    },
    {
      "cell_type": "code",
      "metadata": {
        "id": "KDunroEOt--h"
      },
      "source": [
        "trips = trips.join(cities[[\"id\",\"local_name\"]].set_index('id'), on='o_city' )\r\n",
        "trips = trips.rename(columns = {'local_name':'o_local_name'})\r\n",
        "trips = trips.join(cities[[\"id\",\"local_name\"]].set_index('id'), on='d_city' )\r\n",
        "trips = trips.rename(columns = {'local_name':'d_local_name'})"
      ],
      "execution_count": 357,
      "outputs": []
    },
    {
      "cell_type": "markdown",
      "metadata": {
        "id": "CXYbhPkmhyZp"
      },
      "source": [
        "Ici, je retiens les noms des pays de départ et pays d'arrivée"
      ]
    },
    {
      "cell_type": "code",
      "metadata": {
        "id": "MMA3EV_Fx6hc"
      },
      "source": [
        "trips = trips.drop(columns = [\"o_city\",\"d_city\"])\r\n",
        "vars = [\"o_local_name\",\"d_local_name\"]\r\n",
        "for var in vars :\r\n",
        "    trips[var] = trips[var].apply(lambda c : c.split(',')[2])  "
      ],
      "execution_count": 358,
      "outputs": []
    },
    {
      "cell_type": "code",
      "metadata": {
        "colab": {
          "base_uri": "https://localhost:8080/"
        },
        "id": "rMWNnEWjyjCV",
        "outputId": "48b12c97-1646-415c-c27c-9cb6522cfa90"
      },
      "source": [
        "trips.o_local_name.unique()"
      ],
      "execution_count": 359,
      "outputs": [
        {
          "output_type": "execute_result",
          "data": {
            "text/plain": [
              "array([' France', ' Schweiz', ' Belgique', ' Italia', ' Nederland',\n",
              "       ' Deutschland', ' România', ' Danmark', ' España', ' Portugal',\n",
              "       ' United Kingdom', ' UK', ' Slovenija',\n",
              "       ' België - Belgique - Belgien', ' Česko', ' Polska', ' Luxembourg',\n",
              "       ' Monaco'], dtype=object)"
            ]
          },
          "metadata": {
            "tags": []
          },
          "execution_count": 359
        }
      ]
    },
    {
      "cell_type": "code",
      "metadata": {
        "colab": {
          "base_uri": "https://localhost:8080/"
        },
        "id": "efYfCrKNzCA9",
        "outputId": "97d61017-4c7d-4c33-8281-a2035b0b8439"
      },
      "source": [
        "trips.d_local_name.unique()"
      ],
      "execution_count": 360,
      "outputs": [
        {
          "output_type": "execute_result",
          "data": {
            "text/plain": [
              "array([' France', ' Belgique', ' Deutschland', ' Nederland', ' Italia',\n",
              "       ' Schweiz', ' España', ' United Kingdom', ' Danmark', ' Norge',\n",
              "       ' Česko', ' Portugal', ' Sverige', ' Slovenija', ' UK',\n",
              "       ' България', ' Polska', ' Luxembourg', ' România', ' Hrvatska',\n",
              "       ' Magyarország', ' Ireland', ' Österreich',\n",
              "       ' Црна Гора / Crna Gora', ' Slovensko'], dtype=object)"
            ]
          },
          "metadata": {
            "tags": []
          },
          "execution_count": 360
        }
      ]
    },
    {
      "cell_type": "markdown",
      "metadata": {
        "id": "SjvXqT7Vh4wH"
      },
      "source": [
        "Ensuite, j'ajoute les informations has_wifi, has_plug dans la df parce que cela va avoir un impact sur le prix"
      ]
    },
    {
      "cell_type": "code",
      "metadata": {
        "id": "oSxWZR-NzWnK"
      },
      "source": [
        "trips = trips.join(providers[[\"id\",\"has_wifi\",\"has_plug\",\"has_adjustable_seats\",\"has_bicycle\"]].set_index('id'), on='company' )\r\n",
        "trips = trips.drop(columns = [\"company\"])"
      ],
      "execution_count": 361,
      "outputs": []
    },
    {
      "cell_type": "code",
      "metadata": {
        "id": "wbDliG492BtB"
      },
      "source": [
        "vars = [\"has_wifi\",\"has_plug\",\"has_adjustable_seats\",\"has_bicycle\"]\r\n",
        "for var in vars :\r\n",
        "    trips[var] = trips[var].apply(lambda x : 0 if x == False else 1)"
      ],
      "execution_count": 362,
      "outputs": []
    },
    {
      "cell_type": "markdown",
      "metadata": {
        "id": "xPZ4cFX6iDTs"
      },
      "source": [
        "Puis je compte les middle_stations et les other_companies des trips. Pour les trips en covoit, ces nombres sont à 0."
      ]
    },
    {
      "cell_type": "code",
      "metadata": {
        "id": "b46v0b3223L1"
      },
      "source": [
        "trips.middle_stations = trips.middle_stations.apply(lambda x : 0 if isinstance(x,float) else len(x.split(',')))\r\n",
        "trips.other_companies = trips.other_companies.apply(lambda x : 0 if isinstance(x,float) else len(x.split(',')))"
      ],
      "execution_count": 363,
      "outputs": []
    },
    {
      "cell_type": "code",
      "metadata": {
        "colab": {
          "base_uri": "https://localhost:8080/"
        },
        "id": "8ypCFpv06hqI",
        "outputId": "07510b20-0e2e-4d42-88ba-9c38d2caa553"
      },
      "source": [
        "print(trips.middle_stations.unique())\r\n",
        "print(trips.other_companies.unique())"
      ],
      "execution_count": 364,
      "outputs": [
        {
          "output_type": "stream",
          "text": [
            "[0 2 4 6]\n",
            "[0 1 2 3]\n"
          ],
          "name": "stdout"
        }
      ]
    },
    {
      "cell_type": "code",
      "metadata": {
        "id": "0DFRuZaK6s8V"
      },
      "source": [
        "trips = trips.drop(columns= [\"distanceType\"])"
      ],
      "execution_count": 365,
      "outputs": []
    },
    {
      "cell_type": "markdown",
      "metadata": {
        "id": "BngaYfnsiOMR"
      },
      "source": [
        "Ici je fais un qcut des prix pour séparer la dataset en train set et test set. (On veut un jeu de données bien équilibré)"
      ]
    },
    {
      "cell_type": "code",
      "metadata": {
        "colab": {
          "base_uri": "https://localhost:8080/"
        },
        "id": "yw5rcRgF7W2p",
        "outputId": "93395bb7-760d-424a-a094-71eee4ac9780"
      },
      "source": [
        "pd.qcut(trips.price,q = 5).value_counts()"
      ],
      "execution_count": 366,
      "outputs": [
        {
          "output_type": "execute_result",
          "data": {
            "text/plain": [
              "(299.999, 1700.0]    15109\n",
              "(6026.0, 38550.0]    14834\n",
              "(2790.0, 3750.0]     14834\n",
              "(3750.0, 6026.0]     14824\n",
              "(1700.0, 2790.0]     14567\n",
              "Name: price, dtype: int64"
            ]
          },
          "metadata": {
            "tags": []
          },
          "execution_count": 366
        }
      ]
    },
    {
      "cell_type": "code",
      "metadata": {
        "id": "MwaAXK0r7-k0"
      },
      "source": [
        "def priceType(p):\r\n",
        "    if p <= 300: return 1\r\n",
        "    elif p <= 1700: return 2\r\n",
        "    elif p <= 3750: return 3\r\n",
        "    elif p <= 6026: return 4\r\n",
        "    else : return 5 "
      ],
      "execution_count": 367,
      "outputs": []
    },
    {
      "cell_type": "code",
      "metadata": {
        "id": "Uo5Xxf8H8o9Y"
      },
      "source": [
        "trips[\"priceType\"] = trips.price.apply(lambda p : priceType(p))"
      ],
      "execution_count": 368,
      "outputs": []
    },
    {
      "cell_type": "code",
      "metadata": {
        "colab": {
          "base_uri": "https://localhost:8080/"
        },
        "id": "gp_jLWWE89tu",
        "outputId": "2a8cdf39-1fbf-4243-ff7e-63b10a51e6c6"
      },
      "source": [
        "numerical_features = [\"duration\",\"distance\"]\r\n",
        "categorical_features = ['transport_type', 'middle_stations', 'other_companies', 'o_local_name', 'd_local_name']\r\n",
        "print(categorical_features)\r\n",
        "print(numerical_features)"
      ],
      "execution_count": 369,
      "outputs": [
        {
          "output_type": "stream",
          "text": [
            "['transport_type', 'middle_stations', 'other_companies', 'o_local_name', 'd_local_name']\n",
            "['duration', 'distance']\n"
          ],
          "name": "stdout"
        }
      ]
    },
    {
      "cell_type": "code",
      "metadata": {
        "id": "lqkXEfv2604h"
      },
      "source": [
        "from sklearn.model_selection import StratifiedShuffleSplit\r\n",
        "# Run the split. Creates on split and shares 20% of the dataset for the test set\r\n",
        "split = StratifiedShuffleSplit(n_splits = 10, test_size = 0.2, random_state = 42)\r\n",
        "\r\n",
        "# Separate the stratified train set and the test set\r\n",
        "for train_index, test_index in split.split(trips, trips[\"priceType\"]):\r\n",
        "    strat_train_set = trips.iloc[train_index]\r\n",
        "    strat_test_set = trips.iloc[test_index]"
      ],
      "execution_count": 370,
      "outputs": []
    },
    {
      "cell_type": "code",
      "metadata": {
        "colab": {
          "base_uri": "https://localhost:8080/"
        },
        "id": "i4uTAUQuAZAX",
        "outputId": "1d7ba920-52de-43e6-ade8-ab53df18501e"
      },
      "source": [
        "X_train = strat_train_set.drop(['price','priceType'],axis = 1)\r\n",
        "Y_train = strat_train_set['price']\r\n",
        "\r\n",
        "X_test = strat_test_set.drop(['price','priceType'],axis = 1)\r\n",
        "Y_test = strat_test_set['price']\r\n",
        "\r\n",
        "print('X_train shape :',X_train.shape)\r\n",
        "print('X_test shape :',X_test.shape)\r\n",
        "print('Y_train shape :',Y_train.shape)\r\n",
        "print('Y_test shape :',Y_test.shape)"
      ],
      "execution_count": 371,
      "outputs": [
        {
          "output_type": "stream",
          "text": [
            "X_train shape : (59334, 11)\n",
            "X_test shape : (14834, 11)\n",
            "Y_train shape : (59334,)\n",
            "Y_test shape : (14834,)\n"
          ],
          "name": "stdout"
        }
      ]
    },
    {
      "cell_type": "markdown",
      "metadata": {
        "id": "KdvcxfCbiY9E"
      },
      "source": [
        "J'applique un standard scaler pour les variables quantitatives et un one hot encoder pour les variables qualitatives."
      ]
    },
    {
      "cell_type": "code",
      "metadata": {
        "id": "vO-nQ9MJ91wD"
      },
      "source": [
        "from sklearn.preprocessing import StandardScaler\r\n",
        "from sklearn.preprocessing import OneHotEncoder\r\n",
        "from sklearn.compose import ColumnTransformer\r\n",
        "#Pipeline to transform our dataset\r\n",
        "pipeline = ColumnTransformer([\r\n",
        "    (\"num\", StandardScaler(), numerical_features), # Perform feaured scaling on numeric attributes\r\n",
        "    (\"cat\", OneHotEncoder(), categorical_features) # Perform One-Hot encoding on the category attributes\r\n",
        "])"
      ],
      "execution_count": 372,
      "outputs": []
    },
    {
      "cell_type": "code",
      "metadata": {
        "id": "CjxonUKk-q1W"
      },
      "source": [
        "combined = X_train.append(X_test)\r\n",
        "combined = pipeline.fit_transform(combined)"
      ],
      "execution_count": 373,
      "outputs": []
    },
    {
      "cell_type": "code",
      "metadata": {
        "id": "Vj93Few3AQ2W"
      },
      "source": [
        "X_train = combined[:59334] \r\n",
        "X_test = combined[59334:]"
      ],
      "execution_count": 374,
      "outputs": []
    },
    {
      "cell_type": "code",
      "metadata": {
        "id": "7DIIgmgh-vAR"
      },
      "source": [
        "mae_list = []\r\n",
        "rmse_list = []\r\n",
        "rsquare_list = []\r\n",
        "regressor = []"
      ],
      "execution_count": 375,
      "outputs": []
    },
    {
      "cell_type": "code",
      "metadata": {
        "id": "5c7FTpMx_fcj"
      },
      "source": [
        "import matplotlib.pyplot as plt\r\n",
        "from sklearn import linear_model\r\n",
        "import sklearn.metrics as metrics\r\n",
        "from sklearn.preprocessing import PolynomialFeatures\r\n",
        "from sklearn.tree import DecisionTreeRegressor\r\n",
        "from sklearn.svm import SVR\r\n",
        "from sklearn.ensemble import RandomForestRegressor\r\n",
        "from prettytable import PrettyTable\r\n",
        "from sklearn.ensemble import AdaBoostRegressor\r\n",
        "from sklearn.ensemble import BaggingRegressor\r\n",
        "from sklearn.preprocessing import StandardScaler\r\n",
        "from prettytable import PrettyTable\r\n",
        "from sklearn.neighbors import KNeighborsRegressor\r\n",
        "\r\n",
        "import numpy as np"
      ],
      "execution_count": 376,
      "outputs": []
    },
    {
      "cell_type": "markdown",
      "metadata": {
        "id": "xvVkBidoiiqZ"
      },
      "source": [
        "Ici je fais une fonction pour comparer plusieurs modèles."
      ]
    },
    {
      "cell_type": "code",
      "metadata": {
        "id": "_C8ociSS-9JZ"
      },
      "source": [
        "def display_model(model_name,model,\r\n",
        "                  X_train = X_train, Y_train = Y_train,\r\n",
        "                  X_test = X_test, Y_test = Y_test,\r\n",
        "                  save = True):\r\n",
        "    \r\n",
        "\r\n",
        "    #fit model\r\n",
        "    model.fit(X_train,Y_train)\r\n",
        "\r\n",
        "    #prediction\r\n",
        "    Y_pred=model.predict(X_test)\r\n",
        "    \r\n",
        "    #Score\r\n",
        "    print(\"====== Test Score ======\")\r\n",
        "    Rsquare=model.score(X_test,Y_test)\r\n",
        "    print(\"Rsquare: %f\" %(Rsquare))\r\n",
        "\r\n",
        "    #reconvert to normal scale\r\n",
        "    mae = metrics.mean_absolute_error(Y_test,Y_pred)\r\n",
        "    print(\"mae: %f\" %(mae))\r\n",
        "    rmse=np.sqrt(metrics.mean_squared_error(Y_test,Y_pred))\r\n",
        "    print(\"rmse: %f\" %(rmse))\r\n",
        "\r\n",
        "    #save\r\n",
        "    if (save):\r\n",
        "        regressor.append(model_name)\r\n",
        "        rsquare_list.append(Rsquare)\r\n",
        "        mae_list.append(mae)\r\n",
        "        rmse_list.append(rmse)\r\n",
        "\r\n",
        "    #plot \r\n",
        "    print(\"====== Test Prediction vs Actual ======\")\r\n",
        "    plt.scatter(Y_test, Y_pred)\r\n",
        "    plt.xlabel(\"Actual\")\r\n",
        "    plt.ylabel(\"Predicted\")\r\n",
        "    x_lim = plt.xlim()\r\n",
        "    y_lim = plt.ylim()\r\n",
        "    plt.plot(x_lim, y_lim, \"k--\")\r\n",
        "    plt.show()\r\n",
        "    return Y_pred"
      ],
      "execution_count": 377,
      "outputs": []
    },
    {
      "cell_type": "code",
      "metadata": {
        "colab": {
          "base_uri": "https://localhost:8080/",
          "height": 410
        },
        "id": "HLOcu50D_LEw",
        "outputId": "f6fc8a74-f1d9-4c2c-96cf-f73f4419083b"
      },
      "source": [
        "reg_linear=linear_model.LinearRegression()\r\n",
        "display_model(\"Regression Lineaire\",reg_linear)"
      ],
      "execution_count": 378,
      "outputs": [
        {
          "output_type": "stream",
          "text": [
            "====== Test Score ======\n",
            "Rsquare: 0.701744\n",
            "mae: 1204.549078\n",
            "rmse: 2062.402161\n",
            "====== Test Prediction vs Actual ======\n"
          ],
          "name": "stdout"
        },
        {
          "output_type": "display_data",
          "data": {
            "image/png": "[encoded data removed]",
            "text/plain": [
              "<Figure size 432x288 with 1 Axes>"
            ]
          },
          "metadata": {
            "tags": [],
            "needs_background": "light"
          }
        },
        {
          "output_type": "execute_result",
          "data": {
            "text/plain": [
              "array([2052.44844466, 1847.69266536,  710.14477921, ..., 8337.74730201,\n",
              "       3521.40389844, 2206.22132892])"
            ]
          },
          "metadata": {
            "tags": []
          },
          "execution_count": 378
        }
      ]
    },
    {
      "cell_type": "code",
      "metadata": {
        "colab": {
          "base_uri": "https://localhost:8080/",
          "height": 410
        },
        "id": "mj42tERG_Qg8",
        "outputId": "06d9f8ca-ef7d-47ad-808c-6a07311a1471"
      },
      "source": [
        "decision_tree = DecisionTreeRegressor(random_state = 42)\r\n",
        "display_model(\"Decision tree regressor\",decision_tree)"
      ],
      "execution_count": 379,
      "outputs": [
        {
          "output_type": "stream",
          "text": [
            "====== Test Score ======\n",
            "Rsquare: 0.918128\n",
            "mae: 468.032737\n",
            "rmse: 1080.551421\n",
            "====== Test Prediction vs Actual ======\n"
          ],
          "name": "stdout"
        },
        {
          "output_type": "display_data",
          "data": {
            "image/png": "[encoded data removed]",
            "text/plain": [
              "<Figure size 432x288 with 1 Axes>"
            ]
          },
          "metadata": {
            "tags": [],
            "needs_background": "light"
          }
        },
        {
          "output_type": "execute_result",
          "data": {
            "text/plain": [
              "array([ 2598.66666667,  1734.42622951,   796.875     , ...,\n",
              "       11020.        ,  3025.27472527,  3059.        ])"
            ]
          },
          "metadata": {
            "tags": []
          },
          "execution_count": 379
        }
      ]
    },
    {
      "cell_type": "code",
      "metadata": {
        "colab": {
          "base_uri": "https://localhost:8080/",
          "height": 410
        },
        "id": "iC72t-d9FGu2",
        "outputId": "ba358abd-0343-4d57-a72d-f45fa21f9dfd"
      },
      "source": [
        "rf = RandomForestRegressor(max_depth =  None, n_estimators = 50)\r\n",
        "display_model(\"Random Forest Regression\",rf)"
      ],
      "execution_count": 380,
      "outputs": [
        {
          "output_type": "stream",
          "text": [
            "====== Test Score ======\n",
            "Rsquare: 0.930559\n",
            "mae: 470.652805\n",
            "rmse: 995.147485\n",
            "====== Test Prediction vs Actual ======\n"
          ],
          "name": "stdout"
        },
        {
          "output_type": "display_data",
          "data": {
            "image/png": "[encoded data removed]",
            "text/plain": [
              "<Figure size 432x288 with 1 Axes>"
            ]
          },
          "metadata": {
            "tags": [],
            "needs_background": "light"
          }
        },
        {
          "output_type": "execute_result",
          "data": {
            "text/plain": [
              "array([ 2597.31239416,  1729.37093772,   797.76629005, ...,\n",
              "       10882.31333333,  3033.40600273,  2751.81414495])"
            ]
          },
          "metadata": {
            "tags": []
          },
          "execution_count": 380
        }
      ]
    },
    {
      "cell_type": "code",
      "metadata": {
        "colab": {
          "base_uri": "https://localhost:8080/",
          "height": 410
        },
        "id": "GLdzTOMUGDoG",
        "outputId": "ab3cadeb-f265-4387-e8b2-60b93ce183f2"
      },
      "source": [
        "bagging = BaggingRegressor(base_estimator=DecisionTreeRegressor(),n_estimators = 50)\r\n",
        "display_model(\"Bagging\",bagging)"
      ],
      "execution_count": 381,
      "outputs": [
        {
          "output_type": "stream",
          "text": [
            "====== Test Score ======\n",
            "Rsquare: 0.931106\n",
            "mae: 470.867395\n",
            "rmse: 991.219298\n",
            "====== Test Prediction vs Actual ======\n"
          ],
          "name": "stdout"
        },
        {
          "output_type": "display_data",
          "data": {
            "image/png": "[encoded data removed]",
            "text/plain": [
              "<Figure size 432x288 with 1 Axes>"
            ]
          },
          "metadata": {
            "tags": [],
            "needs_background": "light"
          }
        },
        {
          "output_type": "execute_result",
          "data": {
            "text/plain": [
              "array([ 2603.11588834,  1736.36356376,   800.96061177, ...,\n",
              "       10924.36507937,  3031.14805411,  2887.11062507])"
            ]
          },
          "metadata": {
            "tags": []
          },
          "execution_count": 381
        }
      ]
    },
    {
      "cell_type": "code",
      "metadata": {
        "colab": {
          "base_uri": "https://localhost:8080/",
          "height": 410
        },
        "id": "NQjL81KjGS0C",
        "outputId": "de99aa3d-2009-4f62-a369-ddb63c6ae559"
      },
      "source": [
        "knn = KNeighborsRegressor(weights='distance', metric='euclidean',n_neighbors = 5)\r\n",
        "display_model(\"KNN\",knn)"
      ],
      "execution_count": 382,
      "outputs": [
        {
          "output_type": "stream",
          "text": [
            "====== Test Score ======\n",
            "Rsquare: 0.917784\n",
            "mae: 482.547927\n",
            "rmse: 1082.822564\n",
            "====== Test Prediction vs Actual ======\n"
          ],
          "name": "stdout"
        },
        {
          "output_type": "display_data",
          "data": {
            "image/png": "[encoded data removed]",
            "text/plain": [
              "<Figure size 432x288 with 1 Axes>"
            ]
          },
          "metadata": {
            "tags": [],
            "needs_background": "light"
          }
        },
        {
          "output_type": "execute_result",
          "data": {
            "text/plain": [
              "array([ 2640.        ,  1770.        ,   820.        , ...,\n",
              "       11735.57463998,  3100.        ,  3336.        ])"
            ]
          },
          "metadata": {
            "tags": []
          },
          "execution_count": 382
        }
      ]
    },
    {
      "cell_type": "markdown",
      "metadata": {
        "id": "60XvKOMUio90"
      },
      "source": [
        "On obtient ainsi un tableau pour comparer les performances des différents algorithmes. On voit que Bagging, Random Forest et KNN donnent des résultats assez satisfaisants avec une erreur moyenne d'environ 5€."
      ]
    },
    {
      "cell_type": "code",
      "metadata": {
        "colab": {
          "base_uri": "https://localhost:8080/"
        },
        "id": "HRZEAw39HBl5",
        "outputId": "ebe69257-82c3-4663-fdd8-8c645293f0ad"
      },
      "source": [
        "t  = PrettyTable([\"Model\",\"MAE\",\"RMSE\",\"R_square\"])\r\n",
        "for i in range(len(regressor)):\r\n",
        "  t.add_row([regressor[i],round(mae_list[i],2),round(rmse_list[i],2),round(rsquare_list[i],4)])\r\n",
        "print(t)"
      ],
      "execution_count": 383,
      "outputs": [
        {
          "output_type": "stream",
          "text": [
            "+--------------------------+---------+---------+----------+\n",
            "|          Model           |   MAE   |   RMSE  | R_square |\n",
            "+--------------------------+---------+---------+----------+\n",
            "|   Regression Lineaire    | 1204.55 |  2062.4 |  0.7017  |\n",
            "| Decision tree regressor  |  468.03 | 1080.55 |  0.9181  |\n",
            "| Random Forest Regression |  470.65 |  995.15 |  0.9306  |\n",
            "|         Bagging          |  470.87 |  991.22 |  0.9311  |\n",
            "|           KNN            |  482.55 | 1082.82 |  0.9178  |\n",
            "+--------------------------+---------+---------+----------+\n"
          ],
          "name": "stdout"
        }
      ]
    },
    {
      "cell_type": "markdown",
      "metadata": {
        "id": "x7B2Ly8oi9Jl"
      },
      "source": [
        "Voilà, pour moi, je vous remercie d'avoir pris le temps de lire jusqu'ici. J'ai hâte d'avoir votre feedback et les pistes d'amélioration."
      ]
    }
  ]
}